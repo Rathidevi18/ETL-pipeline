{
 "cells": [
  {
   "cell_type": "code",
   "execution_count": 1,
   "id": "94e22584",
   "metadata": {},
   "outputs": [],
   "source": [
    "from pyspark.sql import SparkSession\n",
    "from pyspark.sql.functions import *\n",
    "from pyspark.sql.types import *\n",
    "from datetime import datetime"
   ]
  },
  {
   "cell_type": "code",
   "execution_count": 2,
   "id": "e9ade56a",
   "metadata": {},
   "outputs": [],
   "source": [
    "# Define watermark cutoff date\n",
    "watermark_cutoff = \"2024-01-01\""
   ]
  },
  {
   "cell_type": "code",
   "execution_count": 3,
   "id": "fde04cea",
   "metadata": {},
   "outputs": [],
   "source": [
    "\n",
    "# Create Spark session\n",
    "spark = SparkSession.builder \\\n",
    "    .appName(\"Transform Claims Bronze to Silver\") \\\n",
    "    .config(\"spark.jars\", r\"C:\\Users\\Mind-Graph\\Desktop\\etlproject\\jars\\postgresql-42.7.2.jar\") \\\n",
    "    .getOrCreate()"
   ]
  },
  {
   "cell_type": "code",
   "execution_count": 4,
   "id": "02dabae8",
   "metadata": {},
   "outputs": [],
   "source": [
    "# Read claims staging table from PostgreSQL (Bronze layer)\n",
    "df_bronze = spark.read \\\n",
    "    .format(\"jdbc\") \\\n",
    "    .option(\"url\", \"jdbc:postgresql://localhost:5432/bronze_layer_db\") \\\n",
    "    .option(\"dbtable\", \"bronze.claims_staging\") \\\n",
    "    .option(\"user\", \"postgres\") \\\n",
    "    .option(\"password\", \"rathi\") \\\n",
    "    .option(\"driver\", \"org.postgresql.Driver\") \\\n",
    "    .load()"
   ]
  },
  {
   "cell_type": "code",
   "execution_count": 5,
   "id": "18890e0d",
   "metadata": {},
   "outputs": [
    {
     "name": "stdout",
     "output_type": "stream",
     "text": [
      "+--------+---------+------------+----------+--------+----------------------+--------------------+--------------------+\n",
      "|claim_id|policy_id|claim_amount|      date|  status|investigation_required|src_transaction_date|         received_at|\n",
      "+--------+---------+------------+----------+--------+----------------------+--------------------+--------------------+\n",
      "|  CL0001|    P0932|      $10082|2025-02-01| Pending|                   Yes|          2024-05-12|2025-08-03 18:55:...|\n",
      "|  CL0002|    P0588|      $37339|2025-03-11|Rejected|                    No|          2025-04-23|2025-08-03 18:55:...|\n",
      "|  CL0003|    P5054|       $2982|2024-06-17|Rejected|                   Yes|          2025-03-22|2025-08-03 18:55:...|\n",
      "|  CL0004|    P0827|      $28714|2024-05-09|Rejected|                   Yes|          2025-01-21|2025-08-03 18:55:...|\n",
      "|  CL0005|    P0145|      $49841|2025-04-25|Approved|                   Yes|          2024-07-05|2025-08-03 18:55:...|\n",
      "+--------+---------+------------+----------+--------+----------------------+--------------------+--------------------+\n",
      "only showing top 5 rows\n",
      "\n"
     ]
    }
   ],
   "source": [
    "df_bronze.show(5)"
   ]
  },
  {
   "cell_type": "code",
   "execution_count": 6,
   "id": "056436bb",
   "metadata": {},
   "outputs": [],
   "source": [
    "\n",
    "# Clean and transform Bronze data to Silver\n",
    "df_silver = df_bronze \\\n",
    "    .withColumn(\"SRC_TRANSACTION_DATE\", to_date(col(\"src_transaction_date\"), \"yyyy-MM-dd\")) \\\n",
    "    .withColumn(\"received_at\", current_timestamp()) \\\n",
    "    .withColumn(\"Claim_ID\", when(col(\"claim_id\").isNull(), expr(\"uuid()\")).otherwise(col(\"claim_id\"))) \\\n",
    "    .withColumn(\"Claim_UUID\", expr(\"uuid()\")) \\\n",
    "    .withColumn(\"Policy_ID\", col(\"policy_id\")) \\\n",
    "    .withColumn(\"Claim_Amount\",\n",
    "        regexp_replace(trim(col(\"claim_amount\")), \"[$,]\", \"\").cast(\"double\")\n",
    "    ) \\\n",
    "    .withColumn(\"Date\", to_date(col(\"date\"), \"yyyy-MM-dd\")) \\\n",
    "    .withColumn(\"Status\", initcap(trim(col(\"status\")))) \\\n",
    "    .withColumn(\"Investigation_Required\", when(col(\"investigation_required\").isin(\"Yes\", \"Y\", \"True\", \"1\"), lit(True))\n",
    "                                            .when(col(\"investigation_required\").isin(\"No\", \"N\", \"False\", \"0\"), lit(False))\n",
    "                                            .otherwise(lit(None))) \\\n",
    "    .withColumn(\"Record_UUID\", expr(\"uuid()\")) \\\n",
    "    .withColumn(\"Record_Hash_ID\", sha2(concat_ws(\"||\", col(\"Claim_ID\"), col(\"Policy_ID\"), col(\"Date\")), 256))\n"
   ]
  },
  {
   "cell_type": "code",
   "execution_count": 7,
   "id": "ef4ef7f1",
   "metadata": {},
   "outputs": [
    {
     "name": "stdout",
     "output_type": "stream",
     "text": [
      "+--------+---------+------------+----------+--------+----------------------+--------------------+--------------------+--------------------+--------------------+--------------------+\n",
      "|Claim_ID|Policy_ID|Claim_Amount|      Date|  Status|Investigation_Required|SRC_TRANSACTION_DATE|         received_at|          Claim_UUID|         Record_UUID|      Record_Hash_ID|\n",
      "+--------+---------+------------+----------+--------+----------------------+--------------------+--------------------+--------------------+--------------------+--------------------+\n",
      "|  CL0001|    P0932|     10082.0|2025-02-01| Pending|                  true|          2024-05-12|2025-08-04 11:56:...|75b017f2-63dd-4b5...|46b4d269-0524-40a...|65c17440701e90a57...|\n",
      "|  CL0002|    P0588|     37339.0|2025-03-11|Rejected|                 false|          2025-04-23|2025-08-04 11:56:...|49b68f66-3de8-4ef...|967bfefc-9126-481...|018c65251ae581c55...|\n",
      "|  CL0003|    P5054|      2982.0|2024-06-17|Rejected|                  true|          2025-03-22|2025-08-04 11:56:...|c1377c1f-8e94-46e...|203051ae-f85f-451...|cb1a157627565dd3a...|\n",
      "|  CL0004|    P0827|     28714.0|2024-05-09|Rejected|                  true|          2025-01-21|2025-08-04 11:56:...|b77bc8f5-bea9-425...|abf5a50f-6e2d-416...|95d894199619e11aa...|\n",
      "|  CL0005|    P0145|     49841.0|2025-04-25|Approved|                  true|          2024-07-05|2025-08-04 11:56:...|b169d1f9-f80d-4c1...|177b8d8b-5c7a-4cf...|171f8ab19855b4148...|\n",
      "+--------+---------+------------+----------+--------+----------------------+--------------------+--------------------+--------------------+--------------------+--------------------+\n",
      "only showing top 5 rows\n",
      "\n"
     ]
    }
   ],
   "source": [
    "df_silver.show(5)"
   ]
  },
  {
   "cell_type": "code",
   "execution_count": 8,
   "id": "67d9b21f",
   "metadata": {},
   "outputs": [],
   "source": [
    "df_clean = df_silver.filter(\n",
    "    col(\"Claim_ID\").isNotNull() &\n",
    "    col(\"Policy_ID\").isNotNull()\n",
    ")\n"
   ]
  },
  {
   "cell_type": "code",
   "execution_count": 9,
   "id": "2341f426",
   "metadata": {},
   "outputs": [
    {
     "name": "stdout",
     "output_type": "stream",
     "text": [
      "+--------+---------+------------+----------+--------+----------------------+--------------------+--------------------+--------------------+--------------------+--------------------+\n",
      "|Claim_ID|Policy_ID|Claim_Amount|      Date|  Status|Investigation_Required|SRC_TRANSACTION_DATE|         received_at|          Claim_UUID|         Record_UUID|      Record_Hash_ID|\n",
      "+--------+---------+------------+----------+--------+----------------------+--------------------+--------------------+--------------------+--------------------+--------------------+\n",
      "|  CL0001|    P0932|     10082.0|2025-02-01| Pending|                  true|          2024-05-12|2025-08-04 11:56:...|75b017f2-63dd-4b5...|46b4d269-0524-40a...|65c17440701e90a57...|\n",
      "|  CL0002|    P0588|     37339.0|2025-03-11|Rejected|                 false|          2025-04-23|2025-08-04 11:56:...|49b68f66-3de8-4ef...|967bfefc-9126-481...|018c65251ae581c55...|\n",
      "|  CL0003|    P5054|      2982.0|2024-06-17|Rejected|                  true|          2025-03-22|2025-08-04 11:56:...|c1377c1f-8e94-46e...|203051ae-f85f-451...|cb1a157627565dd3a...|\n",
      "|  CL0004|    P0827|     28714.0|2024-05-09|Rejected|                  true|          2025-01-21|2025-08-04 11:56:...|b77bc8f5-bea9-425...|abf5a50f-6e2d-416...|95d894199619e11aa...|\n",
      "|  CL0005|    P0145|     49841.0|2025-04-25|Approved|                  true|          2024-07-05|2025-08-04 11:56:...|b169d1f9-f80d-4c1...|177b8d8b-5c7a-4cf...|171f8ab19855b4148...|\n",
      "+--------+---------+------------+----------+--------+----------------------+--------------------+--------------------+--------------------+--------------------+--------------------+\n",
      "only showing top 5 rows\n",
      "\n"
     ]
    }
   ],
   "source": [
    "df_clean.show(5)"
   ]
  },
  {
   "cell_type": "code",
   "execution_count": 10,
   "id": "ba8cdfb4",
   "metadata": {},
   "outputs": [],
   "source": [
    "# Write to Silver layer PostgreSQL\n",
    "df_clean.write \\\n",
    "    .format(\"jdbc\") \\\n",
    "    .option(\"url\", \"jdbc:postgresql://localhost:5432/silver_layer_db\") \\\n",
    "    .option(\"dbtable\", '\"public\".\"silver_claims\"') \\\n",
    "    .option(\"user\", \"postgres\") \\\n",
    "    .option(\"password\", \"rathi\") \\\n",
    "    .option(\"driver\", \"org.postgresql.Driver\") \\\n",
    "    .mode(\"overwrite\") \\\n",
    "    .save()"
   ]
  },
  {
   "cell_type": "code",
   "execution_count": 42,
   "id": "1e93ffe1",
   "metadata": {},
   "outputs": [
    {
     "name": "stdout",
     "output_type": "stream",
     "text": [
      "+--------+---------+------------+----------+--------+----------------------+--------------------+--------------------+--------------------+--------------------+--------------------+\n",
      "|Claim_ID|Policy_ID|Claim_Amount|      Date|  Status|Investigation_Required|SRC_TRANSACTION_DATE|         received_at|          Claim_UUID|         Record_UUID|      Record_Hash_ID|\n",
      "+--------+---------+------------+----------+--------+----------------------+--------------------+--------------------+--------------------+--------------------+--------------------+\n",
      "|  CL0001|    P0932|        NULL|2025-02-01| Pending|                  true|          2024-05-12|2025-08-04 09:33:...|41e341d5-14cb-4ff...|8e5e5dc4-90cb-43e...|65c17440701e90a57...|\n",
      "|  CL0002|    P0588|        NULL|2025-03-11|Rejected|                 false|          2025-04-23|2025-08-04 09:33:...|a7b16386-a22e-4ec...|056f1482-a63f-475...|018c65251ae581c55...|\n",
      "|  CL0003|    P5054|        NULL|2024-06-17|Rejected|                  true|          2025-03-22|2025-08-04 09:33:...|e28a2b3e-ada5-498...|b2ca1bce-6325-406...|cb1a157627565dd3a...|\n",
      "|  CL0004|    P0827|        NULL|2024-05-09|Rejected|                  true|          2025-01-21|2025-08-04 09:33:...|bdcd1eb8-36d5-4b0...|0c2855d8-1e11-47b...|95d894199619e11aa...|\n",
      "|  CL0005|    P0145|        NULL|2025-04-25|Approved|                  true|          2024-07-05|2025-08-04 09:33:...|8a0051f0-b8e2-497...|f281fb26-b083-4c1...|171f8ab19855b4148...|\n",
      "+--------+---------+------------+----------+--------+----------------------+--------------------+--------------------+--------------------+--------------------+--------------------+\n",
      "only showing top 5 rows\n",
      "\n"
     ]
    }
   ],
   "source": [
    "df_clean.show(5)"
   ]
  },
  {
   "cell_type": "code",
   "execution_count": null,
   "id": "48346cfd",
   "metadata": {},
   "outputs": [],
   "source": []
  }
 ],
 "metadata": {
  "kernelspec": {
   "display_name": "Python 3",
   "language": "python",
   "name": "python3"
  },
  "language_info": {
   "codemirror_mode": {
    "name": "ipython",
    "version": 3
   },
   "file_extension": ".py",
   "mimetype": "text/x-python",
   "name": "python",
   "nbconvert_exporter": "python",
   "pygments_lexer": "ipython3",
   "version": "3.10.11"
  }
 },
 "nbformat": 4,
 "nbformat_minor": 5
}
