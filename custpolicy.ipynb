{
 "cells": [
  {
   "cell_type": "code",
   "execution_count": 1,
   "id": "55d4f464",
   "metadata": {},
   "outputs": [],
   "source": [
    "\n",
    "from pyspark.sql import SparkSession\n",
    "from pyspark.sql.functions import (\n",
    "    col, to_date, trim, initcap, sha2, concat_ws, when, lit, expr, udf\n",
    ")\n",
    "from pyspark.sql.types import StringType, DoubleType\n",
    "import uuid"
   ]
  },
  {
   "cell_type": "code",
   "execution_count": 2,
   "id": "c7da4fa4",
   "metadata": {},
   "outputs": [],
   "source": [
    "# Start Spark session\n",
    "spark = SparkSession.builder \\\n",
    "    .appName(\"policy Silver Transformation\") \\\n",
    "    .config(\"spark.jars\", r\"C:\\Users\\Mind-Graph\\Desktop\\etlproject\\jars\\postgresql-42.7.2.jar\") \\\n",
    "    .getOrCreate()"
   ]
  },
  {
   "cell_type": "code",
   "execution_count": 3,
   "id": "0a6ad4b7",
   "metadata": {},
   "outputs": [],
   "source": [
    "# Read from PostgreSQL bronze layer\n",
    "df_bronze = spark.read \\\n",
    "    .format(\"jdbc\") \\\n",
    "    .option(\"url\", \"jdbc:postgresql://localhost:5432/bronze_layer_db\") \\\n",
    "    .option(\"dbtable\", \"bronze.policies_staging\") \\\n",
    "    .option(\"user\", \"postgres\") \\\n",
    "    .option(\"password\", \"rathi\") \\\n",
    "    .option(\"driver\", \"org.postgresql.Driver\") \\\n",
    "    .load()\n"
   ]
  },
  {
   "cell_type": "code",
   "execution_count": 4,
   "id": "c1857a53",
   "metadata": {},
   "outputs": [],
   "source": [
    "# Watermark cutoff\n",
    "watermark_cutoff = \"2000-01-01\"\n"
   ]
  },
  {
   "cell_type": "code",
   "execution_count": 5,
   "id": "11928e56",
   "metadata": {},
   "outputs": [],
   "source": [
    "\n",
    "# UUID Generator UDF\n",
    "uuid_udf = udf(lambda: str(uuid.uuid4()), StringType())\n"
   ]
  },
  {
   "cell_type": "code",
   "execution_count": 6,
   "id": "0150c6e7",
   "metadata": {},
   "outputs": [
    {
     "name": "stdout",
     "output_type": "stream",
     "text": [
      "+---------+-----------+-----------+-------+---------------+-------+--------------------+--------------------+\n",
      "|policy_id|customer_id|policy_type|premium|coverage_amount| status|src_transaction_date|         received_at|\n",
      "+---------+-----------+-----------+-------+---------------+-------+--------------------+--------------------+\n",
      "|    P0477|      C0657|     Health|$293/mo|        $292411|Expired|          2025-05-05|2025-08-03 18:57:...|\n",
      "|    P5828|      C0061|       Home|$336/mo|        $196659| Active|          2025-05-05|2025-08-03 18:57:...|\n",
      "|    P3060|      C0604|     Travel|$389/mo|        $594567| Active|          2025-05-05|2025-08-03 18:57:...|\n",
      "|    P0299|      C0416|     Travel|$106/mo|         $66707|Expired|          2025-05-04|2025-08-03 18:57:...|\n",
      "|    P0418|      C0152|       Home|$122/mo|        $478177| Active|          2025-05-04|2025-08-03 18:57:...|\n",
      "+---------+-----------+-----------+-------+---------------+-------+--------------------+--------------------+\n",
      "only showing top 5 rows\n",
      "\n"
     ]
    }
   ],
   "source": [
    "df_bronze.show(5)"
   ]
  },
  {
   "cell_type": "code",
   "execution_count": 7,
   "id": "2581cd56",
   "metadata": {},
   "outputs": [],
   "source": [
    "from pyspark.sql.functions import regexp_replace, trim, initcap, to_date, col, sha2, concat_ws\n",
    "from pyspark.sql.types import DoubleType\n",
    "\n",
    "# Apply the transformation\n",
    "df_silver = df_bronze \\\n",
    "    .withColumnRenamed(\"policy_id\", \"Policy_ID\") \\\n",
    "    .withColumnRenamed(\"customer_id\", \"Customer_ID\") \\\n",
    "    .withColumnRenamed(\"policy_type\", \"Policy_Type\") \\\n",
    "    .withColumnRenamed(\"premium\", \"Premium\") \\\n",
    "    .withColumnRenamed(\"coverage_amount\", \"Coverage_Amount\") \\\n",
    "    .withColumnRenamed(\"status\", \"Status\") \\\n",
    "    .withColumnRenamed(\"src_transaction_date\", \"SRC_TRANSACTION_DATE\") \\\n",
    "    .withColumnRenamed(\"received_at\", \"Received_At\") \\\n",
    "    .withColumn(\"SRC_TRANSACTION_DATE\", to_date(col(\"SRC_TRANSACTION_DATE\"), \"yyyy-MM-dd\")) \\\n",
    "    .withColumn(\"Policy_UUID\", uuid_udf()) \\\n",
    "    .withColumn(\"Record_Hash_ID\", sha2(concat_ws(\"||\",\n",
    "        col(\"Policy_ID\"), col(\"Customer_ID\"), col(\"Policy_Type\")\n",
    "    ), 256)) \\\n",
    "    .withColumn(\"Policy_Type\", initcap(trim(col(\"Policy_Type\")))) \\\n",
    "    .withColumn(\"Status\", initcap(trim(col(\"Status\")))) \\\n",
    "    .withColumn(\"Premium\", regexp_replace(col(\"Premium\"), \"[$,/a-zA-Z]\", \"\").cast(DoubleType())) \\\n",
    "    .withColumn(\"Coverage_Amount\", regexp_replace(col(\"Coverage_Amount\"), \"[$,/a-zA-Z]\", \"\").cast(DoubleType()))\n"
   ]
  },
  {
   "cell_type": "code",
   "execution_count": 8,
   "id": "98a0081f",
   "metadata": {},
   "outputs": [
    {
     "name": "stdout",
     "output_type": "stream",
     "text": [
      "+---------+-----------+-----------+-------+---------------+-------+--------------------+--------------------+--------------------+--------------------+\n",
      "|Policy_ID|Customer_ID|Policy_Type|Premium|Coverage_Amount| Status|SRC_TRANSACTION_DATE|         Received_At|         Policy_UUID|      Record_Hash_ID|\n",
      "+---------+-----------+-----------+-------+---------------+-------+--------------------+--------------------+--------------------+--------------------+\n",
      "|    P0477|      C0657|     Health|  293.0|       292411.0|Expired|          2025-05-05|2025-08-03 18:57:...|ffb976f6-a12a-47b...|3cec7d06d589e532b...|\n",
      "|    P5828|      C0061|       Home|  336.0|       196659.0| Active|          2025-05-05|2025-08-03 18:57:...|d960fd2e-8556-454...|f86e0d4f12d891678...|\n",
      "|    P3060|      C0604|     Travel|  389.0|       594567.0| Active|          2025-05-05|2025-08-03 18:57:...|3f45d969-769b-4ae...|01df20e10b51645c1...|\n",
      "|    P0299|      C0416|     Travel|  106.0|        66707.0|Expired|          2025-05-04|2025-08-03 18:57:...|e0088ce9-8e65-46f...|297fbe2e8d3c164bf...|\n",
      "|    P0418|      C0152|       Home|  122.0|       478177.0| Active|          2025-05-04|2025-08-03 18:57:...|7d90ca28-0582-4e0...|4db08c4b5062ebdbd...|\n",
      "+---------+-----------+-----------+-------+---------------+-------+--------------------+--------------------+--------------------+--------------------+\n",
      "only showing top 5 rows\n",
      "\n"
     ]
    }
   ],
   "source": [
    "df_silver.show(5)"
   ]
  },
  {
   "cell_type": "code",
   "execution_count": 9,
   "id": "a4cee371",
   "metadata": {},
   "outputs": [
    {
     "name": "stdout",
     "output_type": "stream",
     "text": [
      "+---------+-----------+-----------+-------+---------------+-------+--------------------+--------------------+--------------------+--------------------+\n",
      "|Policy_ID|Customer_ID|Policy_Type|Premium|Coverage_Amount| Status|SRC_TRANSACTION_DATE|         Received_At|         Policy_UUID|      Record_Hash_ID|\n",
      "+---------+-----------+-----------+-------+---------------+-------+--------------------+--------------------+--------------------+--------------------+\n",
      "|    P0477|      C0657|     Health|  293.0|       292411.0|Expired|          2025-05-05|2025-08-03 18:57:...|d0d2e28f-d817-46a...|3cec7d06d589e532b...|\n",
      "|    P5828|      C0061|       Home|  336.0|       196659.0| Active|          2025-05-05|2025-08-03 18:57:...|e665a841-60a2-4e2...|f86e0d4f12d891678...|\n",
      "|    P3060|      C0604|     Travel|  389.0|       594567.0| Active|          2025-05-05|2025-08-03 18:57:...|853616f1-f8b2-4c5...|01df20e10b51645c1...|\n",
      "|    P0299|      C0416|     Travel|  106.0|        66707.0|Expired|          2025-05-04|2025-08-03 18:57:...|127e1592-de1f-4ef...|297fbe2e8d3c164bf...|\n",
      "|    P0418|      C0152|       Home|  122.0|       478177.0| Active|          2025-05-04|2025-08-03 18:57:...|8e77ae49-9bbb-4dd...|4db08c4b5062ebdbd...|\n",
      "+---------+-----------+-----------+-------+---------------+-------+--------------------+--------------------+--------------------+--------------------+\n",
      "only showing top 5 rows\n",
      "\n"
     ]
    }
   ],
   "source": [
    "df_clean = df_silver.filter(\n",
    "    col(\"Policy_ID\").isNotNull() &\n",
    "    col(\"Customer_ID\").isNotNull() &\n",
    "    col(\"Policy_Type\").isNotNull()\n",
    ")\n",
    "df_clean.show(5)\n"
   ]
  },
  {
   "cell_type": "code",
   "execution_count": 10,
   "id": "8e37569e",
   "metadata": {},
   "outputs": [],
   "source": [
    "# Write to Silver table\n",
    "df_clean.write \\\n",
    "    .format(\"jdbc\") \\\n",
    "    .option(\"url\", \"jdbc:postgresql://localhost:5432/silver_layer_db\") \\\n",
    "    .option(\"dbtable\", \"public.silver_policies\") \\\n",
    "    .option(\"user\", \"postgres\") \\\n",
    "    .option(\"password\", \"rathi\") \\\n",
    "    .option(\"driver\", \"org.postgresql.Driver\") \\\n",
    "    .mode(\"overwrite\") \\\n",
    "    .save()\n"
   ]
  },
  {
   "cell_type": "code",
   "execution_count": 11,
   "id": "82e5d811",
   "metadata": {},
   "outputs": [
    {
     "name": "stdout",
     "output_type": "stream",
     "text": [
      "+---------+-----------+-----------+-------+---------------+-------+--------------------+--------------------+--------------------+--------------------+\n",
      "|Policy_ID|Customer_ID|Policy_Type|Premium|Coverage_Amount| Status|SRC_TRANSACTION_DATE|         Received_At|         Policy_UUID|      Record_Hash_ID|\n",
      "+---------+-----------+-----------+-------+---------------+-------+--------------------+--------------------+--------------------+--------------------+\n",
      "|    P0477|      C0657|     Health|  293.0|       292411.0|Expired|          2025-05-05|2025-08-03 18:57:...|ccd35c87-7ead-452...|3cec7d06d589e532b...|\n",
      "|    P5828|      C0061|       Home|  336.0|       196659.0| Active|          2025-05-05|2025-08-03 18:57:...|f54e6c45-39b2-41d...|f86e0d4f12d891678...|\n",
      "|    P3060|      C0604|     Travel|  389.0|       594567.0| Active|          2025-05-05|2025-08-03 18:57:...|74d6a3ed-d24e-452...|01df20e10b51645c1...|\n",
      "|    P0299|      C0416|     Travel|  106.0|        66707.0|Expired|          2025-05-04|2025-08-03 18:57:...|ddb58154-5051-4d3...|297fbe2e8d3c164bf...|\n",
      "|    P0418|      C0152|       Home|  122.0|       478177.0| Active|          2025-05-04|2025-08-03 18:57:...|c6e44bea-6aac-4ba...|4db08c4b5062ebdbd...|\n",
      "+---------+-----------+-----------+-------+---------------+-------+--------------------+--------------------+--------------------+--------------------+\n",
      "only showing top 5 rows\n",
      "\n"
     ]
    }
   ],
   "source": [
    "df_clean.show(5)"
   ]
  },
  {
   "cell_type": "code",
   "execution_count": null,
   "id": "a8c07984",
   "metadata": {},
   "outputs": [],
   "source": []
  }
 ],
 "metadata": {
  "kernelspec": {
   "display_name": "Python 3",
   "language": "python",
   "name": "python3"
  },
  "language_info": {
   "codemirror_mode": {
    "name": "ipython",
    "version": 3
   },
   "file_extension": ".py",
   "mimetype": "text/x-python",
   "name": "python",
   "nbconvert_exporter": "python",
   "pygments_lexer": "ipython3",
   "version": "3.10.11"
  }
 },
 "nbformat": 4,
 "nbformat_minor": 5
}
