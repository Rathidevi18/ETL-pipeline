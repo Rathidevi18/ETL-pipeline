{
 "cells": [
  {
   "cell_type": "code",
   "execution_count": 1,
   "id": "2b322a3e",
   "metadata": {},
   "outputs": [],
   "source": [
    "from pyspark.sql.functions import *\n",
    "from pyspark.sql.types import *\n",
    "import uuid\n",
    "\n",
    "# UDF to generate UUID\n",
    "from pyspark.sql.functions import udf\n",
    "from pyspark.sql.types import StringType\n"
   ]
  },
  {
   "cell_type": "code",
   "execution_count": 2,
   "id": "73d94bc6",
   "metadata": {},
   "outputs": [],
   "source": [
    "# Start Spark session\n",
    "from pyspark.sql import SparkSession\n",
    "spark = SparkSession.builder \\\n",
    "    .appName(\"underwriting silver Transformation\") \\\n",
    "    .config(\"spark.jars\", r\"C:\\Users\\Mind-Graph\\Desktop\\etlproject\\jars\\postgresql-42.7.2.jar\") \\\n",
    "    .getOrCreate()"
   ]
  },
  {
   "cell_type": "code",
   "execution_count": 3,
   "id": "6434f692",
   "metadata": {},
   "outputs": [],
   "source": [
    "# Read Bronze table\n",
    "df_bronze = spark.read \\\n",
    "    .format(\"jdbc\") \\\n",
    "    .option(\"url\", \"jdbc:postgresql://localhost:5432/bronze_layer_db\") \\\n",
    "    .option(\"dbtable\", \"bronze.underwriting_staging\") \\\n",
    "    .option(\"user\", \"postgres\") \\\n",
    "    .option(\"password\", \"rathi\") \\\n",
    "    .option(\"driver\", \"org.postgresql.Driver\") \\\n",
    "    .load()"
   ]
  },
  {
   "cell_type": "code",
   "execution_count": 4,
   "id": "1e8b57ab",
   "metadata": {},
   "outputs": [
    {
     "name": "stdout",
     "output_type": "stream",
     "text": [
      "+-----------+---------+----------+---------------+--------------------+--------------------+\n",
      "|customer_id|policy_id|risk_score|approval_status|src_transaction_date|         received_at|\n",
      "+-----------+---------+----------+---------------+--------------------+--------------------+\n",
      "|      C0344|    P0001|        35|       Approved|          2025-02-14|2025-08-03 18:57:...|\n",
      "|      C0474|    P0002|         1|       Rejected|          2024-07-03|2025-08-03 18:57:...|\n",
      "|      C0644|    P0003|        14|       Approved|          2024-06-15|2025-08-03 18:57:...|\n",
      "|      C0956|    P0004|         3|       Approved|          2024-11-25|2025-08-03 18:57:...|\n",
      "|      C0933|    P0005|        74|   Under Review|          2025-04-06|2025-08-03 18:57:...|\n",
      "+-----------+---------+----------+---------------+--------------------+--------------------+\n",
      "only showing top 5 rows\n",
      "\n"
     ]
    }
   ],
   "source": [
    "df_bronze.show(5)"
   ]
  },
  {
   "cell_type": "code",
   "execution_count": 5,
   "id": "d4540f8c",
   "metadata": {},
   "outputs": [],
   "source": [
    "uuid_udf = udf(lambda: str(uuid.uuid4()), StringType())"
   ]
  },
  {
   "cell_type": "code",
   "execution_count": 6,
   "id": "d109c32f",
   "metadata": {},
   "outputs": [],
   "source": [
    "from pyspark.sql.functions import col, when, to_date, sha2, concat_ws, expr, initcap, trim\n",
    "from pyspark.sql.types import DoubleType, StringType\n",
    "\n",
    "df_silver = df_bronze \\\n",
    "    .withColumnRenamed(\"customer_id\", \"Customer_ID\") \\\n",
    "    .withColumnRenamed(\"policy_id\", \"Policy_ID\") \\\n",
    "    .withColumnRenamed(\"risk_score\", \"Risk_Score\") \\\n",
    "    .withColumnRenamed(\"approval_status\", \"Approval_Status\") \\\n",
    "    .withColumnRenamed(\"src_transaction_date\", \"SRC_TRANSACTION_DATE\") \\\n",
    "    .withColumnRenamed(\"received_at\", \"Received_At\") \\\n",
    "    .withColumn(\"SRC_TRANSACTION_DATE\", to_date(col(\"SRC_TRANSACTION_DATE\"), \"yyyy-MM-dd\")) \\\n",
    "    .withColumn(\"Underwriting_UUID\", expr(\"uuid()\")) \\\n",
    "    .withColumn(\"Record_Hash_ID\", sha2(concat_ws(\"||\",\n",
    "        col(\"Customer_ID\").cast(StringType()),\n",
    "        col(\"Policy_ID\").cast(StringType()),\n",
    "        col(\"Risk_Score\").cast(StringType())\n",
    "    ), 256)) \\\n",
    "    .withColumn(\"Approval_Status\", initcap(trim(col(\"Approval_Status\")))) \\\n",
    "    .withColumn(\"Risk_Score\", when(col(\"Risk_Score\").rlike(\"^[0-9.]+$\"), col(\"Risk_Score\")).otherwise(None).cast(DoubleType()))\n"
   ]
  },
  {
   "cell_type": "code",
   "execution_count": 7,
   "id": "bb04b948",
   "metadata": {},
   "outputs": [],
   "source": [
    "df_clean = df_silver.filter(\n",
    "    col(\"Customer_ID\").isNotNull() &\n",
    "    col(\"Policy_ID\").isNotNull() &\n",
    "    col(\"Risk_Score\").isNotNull() & (col(\"Risk_Score\") > 0) &\n",
    "    col(\"Approval_Status\").isNotNull() &\n",
    "    col(\"SRC_TRANSACTION_DATE\").isNotNull()\n",
    ")\n"
   ]
  },
  {
   "cell_type": "code",
   "execution_count": 8,
   "id": "d636a1a7",
   "metadata": {},
   "outputs": [
    {
     "name": "stdout",
     "output_type": "stream",
     "text": [
      "Before filter: 1371\n",
      "After filter: 1371\n"
     ]
    }
   ],
   "source": [
    "print(\"Before filter:\", df_silver.count())\n",
    "print(\"After filter:\", df_clean.count())\n"
   ]
  },
  {
   "cell_type": "code",
   "execution_count": 9,
   "id": "47c71fe6",
   "metadata": {},
   "outputs": [
    {
     "name": "stdout",
     "output_type": "stream",
     "text": [
      "+-----------+---------+----------+---------------+--------------------+--------------------+--------------------+--------------------+\n",
      "|Customer_ID|Policy_ID|Risk_Score|Approval_Status|SRC_TRANSACTION_DATE|         Received_At|   Underwriting_UUID|      Record_Hash_ID|\n",
      "+-----------+---------+----------+---------------+--------------------+--------------------+--------------------+--------------------+\n",
      "|      C0344|    P0001|      35.0|       Approved|          2025-02-14|2025-08-03 18:57:...|75976a22-a945-4f8...|35a7720489028d209...|\n",
      "|      C0474|    P0002|       1.0|       Rejected|          2024-07-03|2025-08-03 18:57:...|2446241c-a46c-4c5...|046be171a399dac4b...|\n",
      "|      C0644|    P0003|      14.0|       Approved|          2024-06-15|2025-08-03 18:57:...|c94fcead-c2d3-465...|b2be355eaf84ba29c...|\n",
      "|      C0956|    P0004|       3.0|       Approved|          2024-11-25|2025-08-03 18:57:...|a4fa3f09-f545-492...|1b33bb4c1b5f7d974...|\n",
      "|      C0933|    P0005|      74.0|   Under Review|          2025-04-06|2025-08-03 18:57:...|73726cb3-9883-494...|0703d8b5f5ab6d2e2...|\n",
      "+-----------+---------+----------+---------------+--------------------+--------------------+--------------------+--------------------+\n",
      "only showing top 5 rows\n",
      "\n"
     ]
    }
   ],
   "source": [
    "df_clean.show(5)"
   ]
  },
  {
   "cell_type": "code",
   "execution_count": 10,
   "id": "c4f4c62f",
   "metadata": {},
   "outputs": [],
   "source": [
    "# Write to Silver table\n",
    "df_clean.write \\\n",
    "    .format(\"jdbc\") \\\n",
    "    .option(\"url\", \"jdbc:postgresql://localhost:5432/silver_layer_db\") \\\n",
    "    .option(\"dbtable\", \"public.silver_underwriting\") \\\n",
    "    .option(\"user\", \"postgres\") \\\n",
    "    .option(\"password\", \"rathi\") \\\n",
    "    .option(\"driver\", \"org.postgresql.Driver\") \\\n",
    "    .mode(\"overwrite\") \\\n",
    "    .save()\n"
   ]
  }
 ],
 "metadata": {
  "kernelspec": {
   "display_name": "Python 3",
   "language": "python",
   "name": "python3"
  },
  "language_info": {
   "codemirror_mode": {
    "name": "ipython",
    "version": 3
   },
   "file_extension": ".py",
   "mimetype": "text/x-python",
   "name": "python",
   "nbconvert_exporter": "python",
   "pygments_lexer": "ipython3",
   "version": "3.10.11"
  }
 },
 "nbformat": 4,
 "nbformat_minor": 5
}
