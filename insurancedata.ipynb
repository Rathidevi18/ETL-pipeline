{
 "cells": [
  {
   "cell_type": "code",
   "execution_count": 1,
   "id": "59c65308",
   "metadata": {},
   "outputs": [],
   "source": [
    "from pyspark.sql import SparkSession\n",
    "from pyspark.sql.functions import *\n",
    "from pyspark.sql.types import *\n",
    "from datetime import datetime, timedelta"
   ]
  },
  {
   "cell_type": "code",
   "execution_count": 2,
   "id": "1157ebfa",
   "metadata": {},
   "outputs": [],
   "source": [
    "spark = SparkSession.builder \\\n",
    "    .appName(\"BronzeToSilver_Insurance_Batch\") \\\n",
    "    .config(\"spark.jars\", r\"C:\\Users\\Mind-Graph\\Desktop\\etlproject\\jars\\postgresql-42.7.2.jar\") \\\n",
    "    .getOrCreate()\n"
   ]
  },
  {
   "cell_type": "code",
   "execution_count": 3,
   "id": "4dc4c1c6",
   "metadata": {},
   "outputs": [],
   "source": [
    "spark.sparkContext.setLogLevel(\"ERROR\")"
   ]
  },
  {
   "cell_type": "code",
   "execution_count": 4,
   "id": "28d08202",
   "metadata": {},
   "outputs": [],
   "source": [
    "df_bronze = spark.read \\\n",
    "    .format(\"jdbc\") \\\n",
    "    .option(\"url\", \"jdbc:postgresql://localhost:5432/bronze_layer_db\") \\\n",
    "    .option(\"dbtable\", '\"bronze\".\"insurance_dataset_staging\"') \\\n",
    "    .option(\"user\", \"postgres\") \\\n",
    "    .option(\"driver\", \"org.postgresql.Driver\") \\\n",
    "    .option(\"password\", \"rathi\") \\\n",
    "    .load()\n"
   ]
  },
  {
   "cell_type": "code",
   "execution_count": 5,
   "id": "adf53cd7",
   "metadata": {},
   "outputs": [],
   "source": [
    "# Define watermark-like logic: only process records from last 3 days\n",
    "watermark_cutoff = (datetime.now() - timedelta(days=3)).strftime('%Y-%m-%d')"
   ]
  },
  {
   "cell_type": "code",
   "execution_count": 6,
   "id": "76f6700a",
   "metadata": {},
   "outputs": [
    {
     "name": "stdout",
     "output_type": "stream",
     "text": [
      "+-----------+----------------+----------+---------+--------------+---+-------+--------------------+------------+--------+-------+------------+------------+--------------+--------------------+--------------------+\n",
      "|Customer_ID|            Name|       DOB|DL_Number|Aadhaar_Number|Age|Door_No|              Street|        City|   State|Country|Credit_Score|Risk_Profile|Claims_History|SRC_TRANSACTION_DATE|         received_at|\n",
      "+-----------+----------------+----------+---------+--------------+---+-------+--------------------+------------+--------+-------+------------+------------+--------------+--------------------+--------------------+\n",
      "|      C0001|      Jamie Bell|1972-01-25|   227272|  662282154096| 74|    779|267 Roy Landing S...|  Floresside|KY 72134|  India|         803|         Low|             2|          2024-12-03|2025-08-03 19:09:...|\n",
      "|      C0002|Carrie Nicholson|1990-02-19|   746082|  814740195173| 66|    809|754 Javier Creek ...|   East John|VI 14302|  India|         602|        High|             0|          2024-10-27|2025-08-03 19:09:...|\n",
      "|      C0003|  Michelle Davis|1949-02-19|   340792|  312860089533| 47|    335|    9524 Eric Shores|Dylanborough|PR 92228|  India|         651|      Medium|             5|          2023-05-09|2025-08-03 19:09:...|\n",
      "|      C0004|      Sarah Webb|1963-05-20|   920503|  746863388159| 58|    274|31593 Jasmine Und...|  Port Gavin|IA 45590|  India|         765|        High|             0|          2024-02-22|2025-08-03 19:09:...|\n",
      "|      C0005| Angelica Rivera|1965-08-06|   566788|  982130250187| 19|    269|224 Sosa Ford Sui...| North Debra|VT 85807|  India|         693|        High|             3|          2023-08-22|2025-08-03 19:09:...|\n",
      "+-----------+----------------+----------+---------+--------------+---+-------+--------------------+------------+--------+-------+------------+------------+--------------+--------------------+--------------------+\n",
      "only showing top 5 rows\n",
      "\n"
     ]
    }
   ],
   "source": [
    "df_bronze.show(5)"
   ]
  },
  {
   "cell_type": "code",
   "execution_count": 8,
   "id": "017aa98a",
   "metadata": {},
   "outputs": [],
   "source": [
    "from pyspark.sql.functions import *\n",
    "\n",
    "df_transformed = df_bronze \\\n",
    "    .withColumn(\"SRC_TRANSACTION_DATE\", to_date(trim(col(\"SRC_TRANSACTION_DATE\")), \"yyyy-MM-dd\")) \\\n",
    "    .withColumn(\"Customer_ID\", trim(col(\"Customer_ID\"))) \\\n",
    "    .withColumn(\"Customer_UUID\", expr(\"uuid()\")) \\\n",
    "    .withColumn(\"Name\", trim(col(\"Name\"))) \\\n",
    "    .withColumn(\"DOB\", to_date(trim(col(\"DOB\")), \"yyyy-MM-dd\")) \\\n",
    "    .withColumn(\"DL_Masked\", concat(\n",
    "        sha2(expr(\"substring(trim(DL_Number), 1, length(trim(DL_Number)) - 2)\"), 256),\n",
    "        expr(\"substring(trim(DL_Number), -2, 2)\")\n",
    "    )) \\\n",
    "    .withColumn(\"Aadhaar_Masked\", concat(\n",
    "        sha2(expr(\"substring(trim(Aadhaar_Number), 1, length(trim(Aadhaar_Number)) - 2)\"), 256),\n",
    "        expr(\"substring(trim(Aadhaar_Number), -2, 2)\")\n",
    "    )) \\\n",
    "    .withColumn(\"Age\", col(\"Age\").cast(\"int\")) \\\n",
    "    .withColumn(\"Door_No\", trim(col(\"Door_No\"))) \\\n",
    "    .withColumn(\"Street\", trim(col(\"Street\"))) \\\n",
    "    .withColumn(\"City\", trim(col(\"City\"))) \\\n",
    "    .withColumn(\"State\", trim(col(\"State\"))) \\\n",
    "    .withColumn(\"Country\", trim(col(\"Country\"))) \\\n",
    "    .withColumn(\"Credit_Score\", col(\"Credit_Score\").cast(\"int\")) \\\n",
    "    .withColumn(\"Risk_Profile\", trim(col(\"Risk_Profile\"))) \\\n",
    "    .withColumn(\"Claims_History\", col(\"Claims_History\").cast(\"int\")) \\\n",
    "    .withColumn(\"received_at\", current_timestamp()) \\\n",
    "    .drop(\"DL_Number\", \"Aadhaar_Number\")\n",
    "\n"
   ]
  },
  {
   "cell_type": "code",
   "execution_count": 9,
   "id": "65c6fd11",
   "metadata": {},
   "outputs": [
    {
     "name": "stdout",
     "output_type": "stream",
     "text": [
      "+-----------+----------------+----------+---+-------+--------------------+------------+--------+-------+------------+------------+--------------+--------------------+--------------------+--------------------+--------------------+--------------------+\n",
      "|Customer_ID|            Name|       DOB|Age|Door_No|              Street|        City|   State|Country|Credit_Score|Risk_Profile|Claims_History|SRC_TRANSACTION_DATE|         received_at|       Customer_UUID|           DL_Masked|      Aadhaar_Masked|\n",
      "+-----------+----------------+----------+---+-------+--------------------+------------+--------+-------+------------+------------+--------------+--------------------+--------------------+--------------------+--------------------+--------------------+\n",
      "|      C0001|      Jamie Bell|1972-01-25| 74|    779|267 Roy Landing S...|  Floresside|KY 72134|  India|         803|         Low|             2|          2024-12-03|2025-08-04 12:23:...|bfffaa92-58d2-496...|1134c0a7d44fdae1a...|9a94e5a8818d70fe2...|\n",
      "|      C0002|Carrie Nicholson|1990-02-19| 66|    809|754 Javier Creek ...|   East John|VI 14302|  India|         602|        High|             0|          2024-10-27|2025-08-04 12:23:...|d7f32bdf-8e2e-402...|b99262e08a9b3a0ee...|290c7003f3f55201f...|\n",
      "|      C0003|  Michelle Davis|1949-02-19| 47|    335|    9524 Eric Shores|Dylanborough|PR 92228|  India|         651|      Medium|             5|          2023-05-09|2025-08-04 12:23:...|dd02e6fd-6104-438...|ab58ad627e6b1b11f...|76c9a8b047e64f714...|\n",
      "|      C0004|      Sarah Webb|1963-05-20| 58|    274|31593 Jasmine Und...|  Port Gavin|IA 45590|  India|         765|        High|             0|          2024-02-22|2025-08-04 12:23:...|5b2af21b-094d-4b9...|50a79d36411d6da49...|4779394d1280ef68d...|\n",
      "|      C0005| Angelica Rivera|1965-08-06| 19|    269|224 Sosa Ford Sui...| North Debra|VT 85807|  India|         693|        High|             3|          2023-08-22|2025-08-04 12:23:...|f224f165-78c1-458...|4908e317936220be6...|13964ed87a6046318...|\n",
      "+-----------+----------------+----------+---+-------+--------------------+------------+--------+-------+------------+------------+--------------+--------------------+--------------------+--------------------+--------------------+--------------------+\n",
      "only showing top 5 rows\n",
      "\n"
     ]
    }
   ],
   "source": [
    "df_transformed.show(5)"
   ]
  },
  {
   "cell_type": "code",
   "execution_count": 10,
   "id": "560603be",
   "metadata": {},
   "outputs": [],
   "source": [
    "# Filter invalid records\n",
    "df_clean = df_transformed.filter(\n",
    "    (col(\"Age\") > 0) &\n",
    "    (col(\"Credit_Score\").between(300, 900)) &\n",
    "    (col(\"Claims_History\") >= 0)\n",
    ")\n"
   ]
  },
  {
   "cell_type": "code",
   "execution_count": 11,
   "id": "9e42bd4d",
   "metadata": {},
   "outputs": [],
   "source": [
    "\n",
    "\n",
    "df_clean.write \\\n",
    "    .format(\"jdbc\") \\\n",
    "    .option(\"url\", \"jdbc:postgresql://localhost:5432/silver_layer_db\") \\\n",
    "    .option(\"dbtable\", '\"public\".\"silver_insurance_dataset\"') \\\n",
    "    .option(\"user\", \"postgres\") \\\n",
    "    .option(\"password\", \"rathi\") \\\n",
    "    .option(\"driver\", \"org.postgresql.Driver\") \\\n",
    "    .mode(\"overwrite\") \\\n",
    "    .save()\n"
   ]
  },
  {
   "cell_type": "code",
   "execution_count": 12,
   "id": "dd5c896b",
   "metadata": {},
   "outputs": [
    {
     "name": "stdout",
     "output_type": "stream",
     "text": [
      "+-----------+----------------+----------+---+-------+--------------------+------------+--------+-------+------------+------------+--------------+--------------------+--------------------+--------------------+--------------------+--------------------+\n",
      "|Customer_ID|            Name|       DOB|Age|Door_No|              Street|        City|   State|Country|Credit_Score|Risk_Profile|Claims_History|SRC_TRANSACTION_DATE|         received_at|       Customer_UUID|           DL_Masked|      Aadhaar_Masked|\n",
      "+-----------+----------------+----------+---+-------+--------------------+------------+--------+-------+------------+------------+--------------+--------------------+--------------------+--------------------+--------------------+--------------------+\n",
      "|      C0001|      Jamie Bell|1972-01-25| 74|    779|267 Roy Landing S...|  Floresside|KY 72134|  India|         803|         Low|             2|          2024-12-03|2025-08-04 12:23:...|bfffaa92-58d2-496...|1134c0a7d44fdae1a...|9a94e5a8818d70fe2...|\n",
      "|      C0002|Carrie Nicholson|1990-02-19| 66|    809|754 Javier Creek ...|   East John|VI 14302|  India|         602|        High|             0|          2024-10-27|2025-08-04 12:23:...|d7f32bdf-8e2e-402...|b99262e08a9b3a0ee...|290c7003f3f55201f...|\n",
      "|      C0003|  Michelle Davis|1949-02-19| 47|    335|    9524 Eric Shores|Dylanborough|PR 92228|  India|         651|      Medium|             5|          2023-05-09|2025-08-04 12:23:...|dd02e6fd-6104-438...|ab58ad627e6b1b11f...|76c9a8b047e64f714...|\n",
      "|      C0004|      Sarah Webb|1963-05-20| 58|    274|31593 Jasmine Und...|  Port Gavin|IA 45590|  India|         765|        High|             0|          2024-02-22|2025-08-04 12:23:...|5b2af21b-094d-4b9...|50a79d36411d6da49...|4779394d1280ef68d...|\n",
      "|      C0005| Angelica Rivera|1965-08-06| 19|    269|224 Sosa Ford Sui...| North Debra|VT 85807|  India|         693|        High|             3|          2023-08-22|2025-08-04 12:23:...|f224f165-78c1-458...|4908e317936220be6...|13964ed87a6046318...|\n",
      "+-----------+----------------+----------+---+-------+--------------------+------------+--------+-------+------------+------------+--------------+--------------------+--------------------+--------------------+--------------------+--------------------+\n",
      "only showing top 5 rows\n",
      "\n"
     ]
    }
   ],
   "source": [
    "df_clean.show(5)"
   ]
  },
  {
   "cell_type": "code",
   "execution_count": null,
   "id": "21fcac36",
   "metadata": {},
   "outputs": [],
   "source": []
  }
 ],
 "metadata": {
  "kernelspec": {
   "display_name": "Python 3",
   "language": "python",
   "name": "python3"
  },
  "language_info": {
   "codemirror_mode": {
    "name": "ipython",
    "version": 3
   },
   "file_extension": ".py",
   "mimetype": "text/x-python",
   "name": "python",
   "nbconvert_exporter": "python",
   "pygments_lexer": "ipython3",
   "version": "3.10.11"
  }
 },
 "nbformat": 4,
 "nbformat_minor": 5
}
