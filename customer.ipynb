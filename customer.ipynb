{
 "cells": [
  {
   "cell_type": "code",
   "execution_count": 1,
   "id": "f281df45",
   "metadata": {},
   "outputs": [],
   "source": [
    "from pyspark.sql import SparkSession\n",
    "from pyspark.sql.functions import (\n",
    "    col, to_date, sha2, concat_ws, lit, expr, trim, initcap, udf\n",
    ")\n",
    "from pyspark.sql.types import StringType\n",
    "import uuid"
   ]
  },
  {
   "cell_type": "code",
   "execution_count": 2,
   "id": "6fdde9ab",
   "metadata": {},
   "outputs": [],
   "source": [
    "# Start Spark session\n",
    "spark = SparkSession.builder \\\n",
    "    .appName(\"Customer Silver Transformation\") \\\n",
    "    .config(\"spark.jars\", r\"C:\\Users\\Mind-Graph\\Desktop\\etlproject\\jars\\postgresql-42.7.2.jar\") \\\n",
    "    .getOrCreate()"
   ]
  },
  {
   "cell_type": "code",
   "execution_count": 3,
   "id": "48f2a5de",
   "metadata": {},
   "outputs": [],
   "source": [
    "# Read Bronze table\n",
    "df_bronze = spark.read \\\n",
    "    .format(\"jdbc\") \\\n",
    "    .option(\"url\", \"jdbc:postgresql://localhost:5432/bronze_layer_db\") \\\n",
    "    .option(\"dbtable\", \"bronze.customer_staging\") \\\n",
    "    .option(\"user\", \"postgres\") \\\n",
    "    .option(\"password\", \"rathi\") \\\n",
    "    .option(\"driver\", \"org.postgresql.Driver\") \\\n",
    "    .load()"
   ]
  },
  {
   "cell_type": "code",
   "execution_count": 4,
   "id": "695c7193",
   "metadata": {},
   "outputs": [
    {
     "name": "stdout",
     "output_type": "stream",
     "text": [
      "+-----------+----------------+----------+---------+--------------+---+-------+--------------------+------------+--------+-------+------------+------------+--------------+--------------------+--------------------+\n",
      "|customer_id|            name|       dob|dl_number|aadhaar_number|age|door_no|              street|        city|   state|country|credit_score|risk_profile|claims_history|src_transaction_date|         received_at|\n",
      "+-----------+----------------+----------+---------+--------------+---+-------+--------------------+------------+--------+-------+------------+------------+--------------+--------------------+--------------------+\n",
      "|      C0001|      Jamie Bell|25-01-1972|   227272|   6.62282E+11| 74|    779|267 Roy Landing S...|  Floresside|KY 72134|    USA|         803|         Low|             2|          2024-12-03|2025-08-03 18:44:...|\n",
      "|      C0002|Carrie Nicholson|19-02-1990|   746082|    8.1474E+11| 66|    809|754 Javier Creek ...|   East John|VI 14302|    USA|         602|        High|             0|          2024-10-27|2025-08-03 18:44:...|\n",
      "|      C0003|  Michelle Davis|19-02-1949|   340792|    3.1286E+11| 47|    335|    9524 Eric Shores|Dylanborough|PR 92228|    USA|         651|      Medium|             5|          2023-05-09|2025-08-03 18:44:...|\n",
      "|      C0004|      Sarah Webb|20-05-1963|   920503|   7.46863E+11| 58|    274|31593 Jasmine Und...|  Port Gavin|IA 45590|    USA|         765|        High|             0|          2024-02-22|2025-08-03 18:44:...|\n",
      "|      C0005| Angelica Rivera|06-08-1965|   566788|    9.8213E+11| 19|    269|224 Sosa Ford Sui...| North Debra|VT 85807|    USA|         693|        High|             3|          2023-08-22|2025-08-03 18:44:...|\n",
      "+-----------+----------------+----------+---------+--------------+---+-------+--------------------+------------+--------+-------+------------+------------+--------------+--------------------+--------------------+\n",
      "only showing top 5 rows\n",
      "\n"
     ]
    }
   ],
   "source": [
    "df_bronze.show(5)"
   ]
  },
  {
   "cell_type": "code",
   "execution_count": 5,
   "id": "ca91cda1",
   "metadata": {},
   "outputs": [],
   "source": [
    "# Watermark (for future streaming, simulate here with a filter on SRC_TRANSACTION_DATE)\n",
    "watermark_cutoff = \"2020-01-01\""
   ]
  },
  {
   "cell_type": "code",
   "execution_count": 13,
   "id": "464c9d41",
   "metadata": {},
   "outputs": [],
   "source": [
    "# Watermark Cutoff\n",
    "watermark_cutoff = \"2020-01-01\"\n",
    "'''\n",
    "# UDFs for masking\n",
    "def mask_aadhaar(aadhaar):\n",
    "    return aadhaar[:2] + \"XXXXXX\" + aadhaar[-2:] if aadhaar and len(aadhaar) == 12 else aadhaar\n",
    "\n",
    "def mask_dl(dl):\n",
    "    return dl[:2] + \"XXXXXXX\" + dl[-2:] if dl and len(dl) > 4 else dl\n",
    "\n",
    "mask_aadhaar_udf = udf(mask_aadhaar, StringType())\n",
    "mask_dl_udf = udf(mask_dl, StringType())\n",
    "'''\n",
    "# UUID Generator\n",
    "uuid_udf = udf(lambda: str(uuid.uuid4()), StringType())\n"
   ]
  },
  {
   "cell_type": "code",
   "execution_count": 14,
   "id": "92f9d314",
   "metadata": {},
   "outputs": [],
   "source": [
    "# Transformation\n",
    "df_silver = df_bronze \\\n",
    "    .withColumn(\"SRC_TRANSACTION_DATE\", to_date(col(\"src_transaction_date\"), \"yyyy-MM-dd\")) \\\n",
    "    .filter(col(\"SRC_TRANSACTION_DATE\") >= lit(watermark_cutoff)) \\\n",
    "    .withColumnRenamed(\"customer_id\", \"Customer_ID\") \\\n",
    "    .withColumnRenamed(\"name\", \"Name\") \\\n",
    "    .withColumnRenamed(\"dob\", \"DOB\") \\\n",
    "    .withColumnRenamed(\"dl_number\", \"DL_Number\") \\\n",
    "    .withColumnRenamed(\"aadhaar_number\", \"Aadhaar_Number\") \\\n",
    "    .withColumnRenamed(\"age\", \"Age\") \\\n",
    "    .withColumnRenamed(\"door_no\", \"Door_No\") \\\n",
    "    .withColumnRenamed(\"street\", \"Street\") \\\n",
    "    .withColumnRenamed(\"city\", \"City\") \\\n",
    "    .withColumnRenamed(\"state\", \"State\") \\\n",
    "    .withColumnRenamed(\"country\", \"Country\") \\\n",
    "    .withColumnRenamed(\"credit_score\", \"Credit_Score\") \\\n",
    "    .withColumnRenamed(\"risk_profile\", \"Risk_Profile\") \\\n",
    "    .withColumnRenamed(\"claims_history\", \"Claims_History\") \\\n",
    "    .withColumnRenamed(\"received_at\", \"Received_At\") \\\n",
    "    .withColumn(\"Customer_UUID\", uuid_udf()) \\\n",
    "    .withColumn(\"Record_Hash_ID\", sha2(concat_ws(\"||\",\n",
    "        col(\"Customer_ID\"), col(\"Name\"), col(\"DOB\"),\n",
    "        col(\"DL_Number\"), col(\"Aadhaar_Number\")\n",
    "    ), 256)) \\\n",
    "    .withColumn(\"Name\", initcap(trim(col(\"Name\")))) \\\n",
    "    .withColumn(\"City\", initcap(trim(col(\"City\")))) \\\n",
    "    .withColumn(\"State\", initcap(trim(col(\"State\")))) \\\n",
    "    .withColumn(\"Country\", initcap(trim(col(\"Country\"))))\n"
   ]
  },
  {
   "cell_type": "code",
   "execution_count": 15,
   "id": "81720273",
   "metadata": {},
   "outputs": [
    {
     "name": "stdout",
     "output_type": "stream",
     "text": [
      "+-----------+----------------+----------+---------+--------------+---+-------+--------------------+------------+--------+-------+------------+------------+--------------+--------------------+--------------------+--------------------+--------------------+\n",
      "|Customer_ID|            Name|       DOB|DL_Number|Aadhaar_Number|Age|Door_No|              Street|        City|   State|Country|Credit_Score|Risk_Profile|Claims_History|SRC_TRANSACTION_DATE|         Received_At|       Customer_UUID|      Record_Hash_ID|\n",
      "+-----------+----------------+----------+---------+--------------+---+-------+--------------------+------------+--------+-------+------------+------------+--------------+--------------------+--------------------+--------------------+--------------------+\n",
      "|      C0001|      Jamie Bell|25-01-1972|   227272|   6.62282E+11| 74|    779|267 Roy Landing S...|  Floresside|Ky 72134|    Usa|         803|         Low|             2|          2024-12-03|2025-08-03 18:44:...|da8014d8-fc34-451...|0046f348bf1694bbe...|\n",
      "|      C0002|Carrie Nicholson|19-02-1990|   746082|    8.1474E+11| 66|    809|754 Javier Creek ...|   East John|Vi 14302|    Usa|         602|        High|             0|          2024-10-27|2025-08-03 18:44:...|b6c5a0d1-042b-4b5...|6b0074bc0da7c95c7...|\n",
      "|      C0003|  Michelle Davis|19-02-1949|   340792|    3.1286E+11| 47|    335|    9524 Eric Shores|Dylanborough|Pr 92228|    Usa|         651|      Medium|             5|          2023-05-09|2025-08-03 18:44:...|15ec2737-ece7-469...|db56b20375ed5dacc...|\n",
      "|      C0004|      Sarah Webb|20-05-1963|   920503|   7.46863E+11| 58|    274|31593 Jasmine Und...|  Port Gavin|Ia 45590|    Usa|         765|        High|             0|          2024-02-22|2025-08-03 18:44:...|b9c4d415-9402-459...|4626506bd171d5b73...|\n",
      "|      C0005| Angelica Rivera|06-08-1965|   566788|    9.8213E+11| 19|    269|224 Sosa Ford Sui...| North Debra|Vt 85807|    Usa|         693|        High|             3|          2023-08-22|2025-08-03 18:44:...|00b5f1c9-515b-485...|b36af86a28c051dc3...|\n",
      "+-----------+----------------+----------+---------+--------------+---+-------+--------------------+------------+--------+-------+------------+------------+--------------+--------------------+--------------------+--------------------+--------------------+\n",
      "only showing top 5 rows\n",
      "\n"
     ]
    }
   ],
   "source": [
    "df_silver.show(5)"
   ]
  },
  {
   "cell_type": "code",
   "execution_count": 17,
   "id": "914e93a5",
   "metadata": {},
   "outputs": [
    {
     "name": "stdout",
     "output_type": "stream",
     "text": [
      "+-----------+----------------------------------------------------------------+----------------------------------------------------------------+\n",
      "|customer_id|Masked_Aadhaar                                                  |Masked_DL                                                       |\n",
      "+-----------+----------------------------------------------------------------+----------------------------------------------------------------+\n",
      "|C0001      |af1e80f7c7c723533caf86e9e7c9289450ac9b94ee51e2a8881a6f6941239e85|4c3ad176dfac7b9dba006a3d3f770ef8c9f41cde9e44105d42d8dffcc1439726|\n",
      "|C0002      |7cc1ce39bbd9deffedd647d2b864be0f74a5f29993f50e8a1f109bbd51a2a264|406df86a5296fc7babfdbdf5c9a6d67a19919dc6c3a3619e33d0be1d8c30fb94|\n",
      "|C0003      |e9b450f3b789b7a44220cc1a640b2fb0bdf95dbb9b23cd6740badb89dfefb4d0|bdb6f48157c444eb2e46c67e30e0196e594539ed3b3ef6cfd3f1671d152b94fe|\n",
      "|C0004      |005c369f4bac43f4b1f39770b6ce2972607f2dea22e746aa14629b15be10e63e|4b3d0cad1a0d4117254acdcc34a42467a0396d949f49e7816315f3a67e596dd2|\n",
      "|C0005      |f45e385e849b7d6e5fc8b627504dad557cc958be4540798daa1ba158421e2163|73dd0096cb04759ffbe0a42efacb773514e50147693c3ee62926a6d024177417|\n",
      "|C0006      |929279275f5021b3a9fb52e22c9fe7aaa18d0e2b618605ed2a84a81562beccc7|bfdb9178b92179ce90684f8814d4337990c3e027e31f6b0ce68ebae76722c7bc|\n",
      "|C0007      |7d5ac3231ea241dfb95fddcfaf9d18ab154d0edbe0785208e676c4e5ba269efe|36445827b50fc4c005f9429a3fa0c6c16bc78b2ae7710935a1a6bd1c2bdebf30|\n",
      "|C0008      |fea4b64af61ccbe5d5af2ef0bbe08c758d6f4243bbfbecccc0661a5e726ff302|a51080936f0376a4d1d2a2cb95fbd10da276d86ae862314c6b603131b9ec3a47|\n",
      "|C0009      |177641e12a71f93e8df59d2e63eb50a1bb64617df8d955bdad2fac6c87d83269|481c4897922b6f9c14323d043fafd1d3f87ff56dd0e109769d9636548e53de54|\n",
      "|C0010      |e32fcfc9406bd4d036d4a600026228a2fce546f5cffa157c7302c29b0823e6b7|187ff0dea7726cd00c2ae7c3b7ed5c567f13f1a677fe6bd41835f8f0ed3a2c04|\n",
      "|C0011      |c0224c72fbc24d415e0f1b0c30edc6e49b632944cc9bcfd7d3cf8594f0c0fd04|22fe6bf32c0af95f1e88d4edf6890bfea3727a7c5f2510fd05c1011ea291f94f|\n",
      "|C0012      |0c5d331f9c1a37fa58a95cf64a621a82ad89ea1af3dc6dffea3464a0ab483a95|04c553a449d06bf31ceb48ab5be4d5df4e4008c0b17fcf2153dbb9d52581ed1e|\n",
      "|C0013      |7568ed3e13d84193c129a90ca89344c793a8dab5feba3d623f9c3529f02aff80|a6393985a22c708045343b087ffcda83b2a93ba2a552f154d57c8786a72befc8|\n",
      "|C0014      |0f6b4af5ab2ffa7beb33e7fe12ebf54c22a37a379e3e4b785f59a8ee3ca86c85|ac8148f8b0943d78994a61e89de1c4c50a5f21a3aa00105122131c0e6185089d|\n",
      "|C0015      |6e5b272dc9d63a4dfb2fbabdfdcb54ef374232bdac68a1e404eaf5e1f0394178|7acfde31c0c60e999a4114e17a7e610e713952c7a30a6ab7b6fc089bd8c7b90d|\n",
      "|C0016      |cf7a97fa6eba78bf3999f8af0930c34364c27529b55c8833655f145fff2afae5|868a779176303e0e97e3dd057f782c4ce9a9b519defa37f225a7023603503f67|\n",
      "|C0017      |b2fc6bd399daef110618cc6f879996560a892c9f0589fd63d0eb3814ab5c906a|db520d7e2cb0fea3a9193c3c1c7c2052a15e9d68969f6470f8af877461f443ce|\n",
      "|C0018      |07022c1027eb91fb3988a8afedc1b305992a234583c267a95ec6e40afbc9f832|e8fcedc8192a83d2ac34fd4ec2a8038eaaedf0b666492f7671e62ac4383b43d8|\n",
      "|C0019      |490439cd8128733f983031b3c60ad8a575f811a58f3640fe6ec255618946239e|fb668ee072524565f379ded5ead874dae4221d8feb0a263a0c656b00bc8ed134|\n",
      "|C0020      |595d85d05f8adc285dd4c690db4f8b8ecc6ea65c83d55a9cf08aeab4f30928c6|d8a531804eec0fbd262d19d380f53f409f84efe7bceeb5244628973ef9249377|\n",
      "+-----------+----------------------------------------------------------------+----------------------------------------------------------------+\n",
      "only showing top 20 rows\n",
      "\n"
     ]
    }
   ],
   "source": [
    "from pyspark.sql.functions import col, sha2, concat_ws\n",
    "\n",
    "# Fix scientific notation issue and convert to string first\n",
    "df_masked = df_silver \\\n",
    "    .withColumn(\"aadhaar_number_str\", col(\"Aadhaar_Number\").cast(\"string\")) \\\n",
    "    .withColumn(\"dl_number_str\", col(\"DL_Number\").cast(\"string\")) \\\n",
    "    .withColumn(\"Masked_Aadhaar\", sha2(col(\"aadhaar_number_str\"), 256)) \\\n",
    "    .withColumn(\"Masked_DL\", sha2(col(\"dl_number_str\"), 256)) \\\n",
    "    .drop(\"aadhaar_number_str\", \"dl_number_str\")  # Optional cleanup\n",
    "\n",
    "df_masked.select(\"customer_id\", \"Masked_Aadhaar\", \"Masked_DL\").show(truncate=False)\n"
   ]
  },
  {
   "cell_type": "code",
   "execution_count": 18,
   "id": "592ffdad",
   "metadata": {},
   "outputs": [],
   "source": [
    "# Filter nulls and quality rules\n",
    "df_clean = df_masked.filter(\n",
    "    (col(\"Customer_ID\").isNotNull()) &\n",
    "    (col(\"Name\").isNotNull()) &\n",
    "    (col(\"DOB\").isNotNull()) &\n",
    "    (col(\"Age\") > 0) &\n",
    "    (col(\"Credit_Score\").isNotNull()) &\n",
    "    (col(\"Risk_Profile\").isNotNull())\n",
    ")\n"
   ]
  },
  {
   "cell_type": "code",
   "execution_count": 19,
   "id": "872ac926",
   "metadata": {},
   "outputs": [
    {
     "name": "stdout",
     "output_type": "stream",
     "text": [
      "+-----------+----------------+----------+---------+--------------+---+-------+--------------------+------------+--------+-------+------------+------------+--------------+--------------------+--------------------+--------------------+--------------------+--------------------+--------------------+\n",
      "|Customer_ID|            Name|       DOB|DL_Number|Aadhaar_Number|Age|Door_No|              Street|        City|   State|Country|Credit_Score|Risk_Profile|Claims_History|SRC_TRANSACTION_DATE|         Received_At|       Customer_UUID|      Record_Hash_ID|      Masked_Aadhaar|           Masked_DL|\n",
      "+-----------+----------------+----------+---------+--------------+---+-------+--------------------+------------+--------+-------+------------+------------+--------------+--------------------+--------------------+--------------------+--------------------+--------------------+--------------------+\n",
      "|      C0001|      Jamie Bell|25-01-1972|   227272|   6.62282E+11| 74|    779|267 Roy Landing S...|  Floresside|Ky 72134|    Usa|         803|         Low|             2|          2024-12-03|2025-08-03 18:44:...|38bfb647-d061-422...|0046f348bf1694bbe...|af1e80f7c7c723533...|4c3ad176dfac7b9db...|\n",
      "|      C0002|Carrie Nicholson|19-02-1990|   746082|    8.1474E+11| 66|    809|754 Javier Creek ...|   East John|Vi 14302|    Usa|         602|        High|             0|          2024-10-27|2025-08-03 18:44:...|ee558e4c-3af1-4a5...|6b0074bc0da7c95c7...|7cc1ce39bbd9deffe...|406df86a5296fc7ba...|\n",
      "|      C0003|  Michelle Davis|19-02-1949|   340792|    3.1286E+11| 47|    335|    9524 Eric Shores|Dylanborough|Pr 92228|    Usa|         651|      Medium|             5|          2023-05-09|2025-08-03 18:44:...|fe28790d-0adf-470...|db56b20375ed5dacc...|e9b450f3b789b7a44...|bdb6f48157c444eb2...|\n",
      "|      C0004|      Sarah Webb|20-05-1963|   920503|   7.46863E+11| 58|    274|31593 Jasmine Und...|  Port Gavin|Ia 45590|    Usa|         765|        High|             0|          2024-02-22|2025-08-03 18:44:...|ac96cada-7844-483...|4626506bd171d5b73...|005c369f4bac43f4b...|4b3d0cad1a0d41172...|\n",
      "|      C0005| Angelica Rivera|06-08-1965|   566788|    9.8213E+11| 19|    269|224 Sosa Ford Sui...| North Debra|Vt 85807|    Usa|         693|        High|             3|          2023-08-22|2025-08-03 18:44:...|82a728fd-59cc-471...|b36af86a28c051dc3...|f45e385e849b7d6e5...|73dd0096cb04759ff...|\n",
      "+-----------+----------------+----------+---------+--------------+---+-------+--------------------+------------+--------+-------+------------+------------+--------------+--------------------+--------------------+--------------------+--------------------+--------------------+--------------------+\n",
      "only showing top 5 rows\n",
      "\n"
     ]
    }
   ],
   "source": [
    "df_clean.show(5)"
   ]
  },
  {
   "cell_type": "code",
   "execution_count": 20,
   "id": "9154a63b",
   "metadata": {},
   "outputs": [],
   "source": [
    "# Write to Silver table\n",
    "df_clean.write \\\n",
    "    .format(\"jdbc\") \\\n",
    "    .option(\"url\", \"jdbc:postgresql://localhost:5432/silver_layer_db\") \\\n",
    "    .option(\"dbtable\", \"public.silver_customer\") \\\n",
    "    .option(\"user\", \"postgres\") \\\n",
    "    .option(\"password\", \"rathi\") \\\n",
    "    .option(\"driver\", \"org.postgresql.Driver\") \\\n",
    "    .mode(\"overwrite\") \\\n",
    "    .save()\n"
   ]
  },
  {
   "cell_type": "code",
   "execution_count": null,
   "id": "74a54622",
   "metadata": {},
   "outputs": [],
   "source": []
  }
 ],
 "metadata": {
  "kernelspec": {
   "display_name": "Python 3",
   "language": "python",
   "name": "python3"
  },
  "language_info": {
   "codemirror_mode": {
    "name": "ipython",
    "version": 3
   },
   "file_extension": ".py",
   "mimetype": "text/x-python",
   "name": "python",
   "nbconvert_exporter": "python",
   "pygments_lexer": "ipython3",
   "version": "3.10.11"
  }
 },
 "nbformat": 4,
 "nbformat_minor": 5
}
