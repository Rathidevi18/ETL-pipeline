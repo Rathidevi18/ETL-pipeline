{
 "cells": [
  {
   "cell_type": "code",
   "execution_count": 1,
   "id": "64606379",
   "metadata": {},
   "outputs": [],
   "source": [
    "from pyspark.sql import SparkSession\n",
    "from pyspark.sql.functions import *\n",
    "from pyspark.sql.types import *\n"
   ]
  },
  {
   "cell_type": "code",
   "execution_count": 2,
   "id": "a37f3943",
   "metadata": {},
   "outputs": [],
   "source": [
    "# Spark Session\n",
    "spark = SparkSession.builder \\\n",
    "    .appName(\"Transform Customer-Policy Relation Bronze to Silver\") \\\n",
    "    .config(\"spark.jars\", r\"C:\\Users\\Mind-Graph\\Desktop\\etlproject\\jars\\postgresql-42.7.2.jar\") \\\n",
    "    .getOrCreate()\n"
   ]
  },
  {
   "cell_type": "code",
   "execution_count": 8,
   "id": "4a60404c",
   "metadata": {},
   "outputs": [],
   "source": [
    "# Load Bronze data\n",
    "df_bronze = spark.read \\\n",
    "    .format(\"jdbc\") \\\n",
    "    .option(\"url\", \"jdbc:postgresql://localhost:5432/bronze_layer_db\") \\\n",
    "    .option(\"dbtable\", \"bronze.\\\"customer_policy_relation_staging\\\"\") \\\n",
    "    .option(\"user\", \"postgres\") \\\n",
    "    .option(\"password\", \"rathi\") \\\n",
    "    .option(\"driver\", \"org.postgresql.Driver\") \\\n",
    "    .load()"
   ]
  },
  {
   "cell_type": "code",
   "execution_count": 9,
   "id": "dc7a0fc3",
   "metadata": {},
   "outputs": [
    {
     "name": "stdout",
     "output_type": "stream",
     "text": [
      "+-----------+---------+----------+----------+-------+--------------------+--------------------+\n",
      "|customer_id|policy_id|start_date|  end_date| status|src_transaction_date|         received_at|\n",
      "+-----------+---------+----------+----------+-------+--------------------+--------------------+\n",
      "|      C0001|    P8544|2023-07-05|      NULL| Active|          2025-01-21|2025-08-03 18:56:...|\n",
      "|      C0002|    P0830|2021-04-10|2024-06-27|Expired|          2025-03-01|2025-08-03 18:56:...|\n",
      "|      C0003|    P8159|2021-04-13|      NULL| Active|          2024-10-02|2025-08-03 18:56:...|\n",
      "|      C0004|    P0330|2021-10-13|      NULL| Active|          2024-06-08|2025-08-03 18:56:...|\n",
      "|      C0005|    P0379|2021-11-27|      NULL| Active|          2024-10-26|2025-08-03 18:56:...|\n",
      "+-----------+---------+----------+----------+-------+--------------------+--------------------+\n",
      "only showing top 5 rows\n",
      "\n"
     ]
    }
   ],
   "source": [
    "df_bronze.show(5)"
   ]
  },
  {
   "cell_type": "code",
   "execution_count": 10,
   "id": "791a5a09",
   "metadata": {},
   "outputs": [],
   "source": [
    "\n",
    "# Watermark cutoff\n",
    "watermark_cutoff = \"2024-01-01\""
   ]
  },
  {
   "cell_type": "code",
   "execution_count": 11,
   "id": "e9b9713a",
   "metadata": {},
   "outputs": [],
   "source": [
    "from pyspark.sql.functions import col, trim, upper, to_date, current_timestamp, when, concat_ws, sha2, expr\n",
    "\n",
    "df_silver = df_bronze \\\n",
    "    .withColumn(\"Customer_ID\", trim(col(\"customer_id\"))) \\\n",
    "    .withColumn(\"Policy_ID\", trim(col(\"policy_id\"))) \\\n",
    "    .withColumn(\"Start_Date\", to_date(trim(col(\"start_date\")), \"yyyy-MM-dd\")) \\\n",
    "    .withColumn(\"End_Date\", to_date(trim(col(\"end_date\")), \"yyyy-MM-dd\")) \\\n",
    "    .withColumn(\"Status\", upper(trim(col(\"status\")))) \\\n",
    "    .withColumn(\"SRC_TRANSACTION_DATE\", to_date(trim(col(\"src_transaction_date\")), \"yyyy-MM-dd\")) \\\n",
    "    .withColumn(\"Received_At\", when(col(\"received_at\").isNotNull(), col(\"received_at\")).otherwise(current_timestamp())) \\\n",
    "    .filter(col(\"SRC_TRANSACTION_DATE\") >= lit(watermark_cutoff)) \\\n",
    "    .withColumn(\"Record_UUID\", expr(\"uuid()\")) \\\n",
    "    .withColumn(\"Record_Hash_ID\", sha2(concat_ws(\"||\",\n",
    "        col(\"Customer_ID\"), col(\"Policy_ID\"), col(\"Start_Date\")\n",
    "    ), 256))\n"
   ]
  },
  {
   "cell_type": "code",
   "execution_count": 12,
   "id": "9effcf49",
   "metadata": {},
   "outputs": [
    {
     "name": "stdout",
     "output_type": "stream",
     "text": [
      "+-----------+---------+----------+----------+-------+--------------------+--------------------+--------------------+--------------------+\n",
      "|Customer_ID|Policy_ID|Start_Date|  End_Date| Status|SRC_TRANSACTION_DATE|         Received_At|         Record_UUID|      Record_Hash_ID|\n",
      "+-----------+---------+----------+----------+-------+--------------------+--------------------+--------------------+--------------------+\n",
      "|      C0001|    P8544|2023-07-05|      NULL| ACTIVE|          2025-01-21|2025-08-03 18:56:...|eb170f54-7087-42d...|fcc97f6e8bfcdd66a...|\n",
      "|      C0002|    P0830|2021-04-10|2024-06-27|EXPIRED|          2025-03-01|2025-08-03 18:56:...|b85925e5-e004-42e...|16a39c3c35889958a...|\n",
      "|      C0003|    P8159|2021-04-13|      NULL| ACTIVE|          2024-10-02|2025-08-03 18:56:...|0a41f54f-0933-42d...|13145eaf9a1d4457e...|\n",
      "|      C0004|    P0330|2021-10-13|      NULL| ACTIVE|          2024-06-08|2025-08-03 18:56:...|0aa95e3b-3a6f-493...|7fc617ef3bdd73eca...|\n",
      "|      C0005|    P0379|2021-11-27|      NULL| ACTIVE|          2024-10-26|2025-08-03 18:56:...|71c735ae-709a-45e...|8157fb01088c6f393...|\n",
      "+-----------+---------+----------+----------+-------+--------------------+--------------------+--------------------+--------------------+\n",
      "only showing top 5 rows\n",
      "\n"
     ]
    }
   ],
   "source": [
    "df_silver.show(5)"
   ]
  },
  {
   "cell_type": "code",
   "execution_count": 13,
   "id": "8a226413",
   "metadata": {},
   "outputs": [],
   "source": [
    "\n",
    "# Null and type validation\n",
    "df_clean = df_silver.filter(\n",
    "    col(\"Customer_ID\").isNotNull() &\n",
    "    col(\"Policy_ID\").isNotNull() &\n",
    "    col(\"Start_Date\").isNotNull()\n",
    ")\n"
   ]
  },
  {
   "cell_type": "code",
   "execution_count": 14,
   "id": "708b17aa",
   "metadata": {},
   "outputs": [],
   "source": [
    "# Deduplicate using composite key\n",
    "df_deduped = df_clean.dropDuplicates([\"Customer_ID\", \"Policy_ID\", \"Start_Date\"])"
   ]
  },
  {
   "cell_type": "code",
   "execution_count": 15,
   "id": "5cafc18b",
   "metadata": {},
   "outputs": [],
   "source": [
    "# Write to Silver PostgreSQL table\n",
    "df_deduped.write \\\n",
    "    .format(\"jdbc\") \\\n",
    "    .option(\"url\", \"jdbc:postgresql://localhost:5432/silver_layer_db\") \\\n",
    "    .option(\"dbtable\", \"public.silver_customer_policy_relation\") \\\n",
    "    .option(\"user\", \"postgres\") \\\n",
    "    .option(\"password\", \"rathi\") \\\n",
    "    .option(\"driver\", \"org.postgresql.Driver\") \\\n",
    "    .mode(\"overwrite\") \\\n",
    "    .save()\n"
   ]
  },
  {
   "cell_type": "code",
   "execution_count": 17,
   "id": "c5921b3f",
   "metadata": {},
   "outputs": [
    {
     "name": "stdout",
     "output_type": "stream",
     "text": [
      "+-----------+---------+----------+----------+-------+--------------------+--------------------+--------------------+--------------------+\n",
      "|Customer_ID|Policy_ID|Start_Date|  End_Date| Status|SRC_TRANSACTION_DATE|         Received_At|         Record_UUID|      Record_Hash_ID|\n",
      "+-----------+---------+----------+----------+-------+--------------------+--------------------+--------------------+--------------------+\n",
      "|      C0001|    P8544|2023-07-05|      NULL| ACTIVE|          2025-01-21|2025-08-03 18:56:...|eb170f54-7087-42d...|fcc97f6e8bfcdd66a...|\n",
      "|      C0002|    P0830|2021-04-10|2024-06-27|EXPIRED|          2025-03-01|2025-08-03 18:56:...|b85925e5-e004-42e...|16a39c3c35889958a...|\n",
      "|      C0003|    P8159|2021-04-13|      NULL| ACTIVE|          2024-10-02|2025-08-03 18:56:...|0a41f54f-0933-42d...|13145eaf9a1d4457e...|\n",
      "|      C0004|    P0330|2021-10-13|      NULL| ACTIVE|          2024-06-08|2025-08-03 18:56:...|0aa95e3b-3a6f-493...|7fc617ef3bdd73eca...|\n",
      "|      C0005|    P0379|2021-11-27|      NULL| ACTIVE|          2024-10-26|2025-08-03 18:56:...|71c735ae-709a-45e...|8157fb01088c6f393...|\n",
      "+-----------+---------+----------+----------+-------+--------------------+--------------------+--------------------+--------------------+\n",
      "only showing top 5 rows\n",
      "\n"
     ]
    }
   ],
   "source": [
    "df_deduped.show(5)"
   ]
  },
  {
   "cell_type": "code",
   "execution_count": null,
   "id": "baca2b37",
   "metadata": {},
   "outputs": [],
   "source": []
  }
 ],
 "metadata": {
  "kernelspec": {
   "display_name": "Python 3",
   "language": "python",
   "name": "python3"
  },
  "language_info": {
   "codemirror_mode": {
    "name": "ipython",
    "version": 3
   },
   "file_extension": ".py",
   "mimetype": "text/x-python",
   "name": "python",
   "nbconvert_exporter": "python",
   "pygments_lexer": "ipython3",
   "version": "3.10.11"
  }
 },
 "nbformat": 4,
 "nbformat_minor": 5
}
