{
 "cells": [
  {
   "cell_type": "code",
   "execution_count": 5,
   "id": "88022d3f",
   "metadata": {},
   "outputs": [],
   "source": [
    "\n",
    "from pyspark.sql import SparkSession\n",
    "from pyspark.sql.functions import *\n",
    "from pyspark.sql.types import *\n"
   ]
  },
  {
   "cell_type": "code",
   "execution_count": 6,
   "id": "b4624a4f",
   "metadata": {},
   "outputs": [],
   "source": [
    "# Create Spark session\n",
    "spark = SparkSession.builder \\\n",
    "    .appName(\"Transform Customer Identity Bronze to Silver\") \\\n",
    "    .config(\"spark.jars\", r\"C:\\Users\\Mind-Graph\\Desktop\\etlproject\\jars\\postgresql-42.7.2.jar\") \\\n",
    "    .getOrCreate()"
   ]
  },
  {
   "cell_type": "code",
   "execution_count": 7,
   "id": "d87bf5f4",
   "metadata": {},
   "outputs": [],
   "source": [
    "# Read from PostgreSQL (Bronze)\n",
    "df_bronze = spark.read \\\n",
    "    .format(\"jdbc\") \\\n",
    "    .option(\"url\", \"jdbc:postgresql://localhost:5432/bronze_layer_db\") \\\n",
    "    .option(\"dbtable\", \"bronze.customer_identity_staging\") \\\n",
    "    .option(\"user\", \"postgres\") \\\n",
    "    .option(\"password\", \"rathi\") \\\n",
    "    .option(\"driver\", \"org.postgresql.Driver\") \\\n",
    "    .load()"
   ]
  },
  {
   "cell_type": "code",
   "execution_count": 8,
   "id": "d6cd8271",
   "metadata": {},
   "outputs": [
    {
     "name": "stdout",
     "output_type": "stream",
     "text": [
      "+-----------+--------------+---------+--------------------+\n",
      "|customer_id|aadhaar_number|dl_number|         received_at|\n",
      "+-----------+--------------+---------+--------------------+\n",
      "|      C0001|  662282154096|   227272|2025-08-03 18:56:...|\n",
      "|      C0002|  814740195173|   746082|2025-08-03 18:56:...|\n",
      "|      C0003|  312860089533|   340792|2025-08-03 18:56:...|\n",
      "|      C0004|  746863388159|   920503|2025-08-03 18:56:...|\n",
      "|      C0005|  982130250187|   566788|2025-08-03 18:56:...|\n",
      "+-----------+--------------+---------+--------------------+\n",
      "only showing top 5 rows\n",
      "\n"
     ]
    }
   ],
   "source": [
    "df_bronze.show(5)"
   ]
  },
  {
   "cell_type": "code",
   "execution_count": 13,
   "id": "080f6744",
   "metadata": {},
   "outputs": [],
   "source": [
    "\n",
    "\n",
    "from pyspark.sql.functions import sha2, concat_ws, col, expr\n",
    "\n",
    "df_silver = df_bronze \\\n",
    "    .withColumn(\"Customer_ID\", col(\"customer_id\")) \\\n",
    "    .withColumn(\"Masked_Aadhaar_Number\", sha2(col(\"aadhaar_number\").cast(\"string\"), 256)) \\\n",
    "    .withColumn(\"Masked_DL_Number\", sha2(col(\"dl_number\").cast(\"string\"), 256)) \\\n",
    "    .withColumn(\"Received_At\", col(\"received_at\")) \\\n",
    "    .withColumn(\"Record_UUID\", expr(\"uuid()\")) \\\n",
    "    .withColumn(\"Record_Hash_ID\", sha2(concat_ws(\"||\", col(\"Customer_ID\"), col(\"Masked_Aadhaar_Number\"), col(\"Masked_DL_Number\")), 256))\n"
   ]
  },
  {
   "cell_type": "code",
   "execution_count": 14,
   "id": "8be0ec8c",
   "metadata": {},
   "outputs": [
    {
     "name": "stdout",
     "output_type": "stream",
     "text": [
      "+-----------+--------------+---------+--------------------+---------------------+--------------------+--------------------+--------------------+\n",
      "|Customer_ID|aadhaar_number|dl_number|         Received_At|Masked_Aadhaar_Number|    Masked_DL_Number|         Record_UUID|      Record_Hash_ID|\n",
      "+-----------+--------------+---------+--------------------+---------------------+--------------------+--------------------+--------------------+\n",
      "|      C0001|  662282154096|   227272|2025-08-03 18:56:...| 53db24e255e42f4fc...|4c3ad176dfac7b9db...|c39bee25-03f3-441...|919b2320e1a03f843...|\n",
      "|      C0002|  814740195173|   746082|2025-08-03 18:56:...| c4a479edab65f714a...|406df86a5296fc7ba...|84294531-23ba-4c6...|ae86a89cfa3812fe0...|\n",
      "|      C0003|  312860089533|   340792|2025-08-03 18:56:...| 3437c1ab81807789a...|bdb6f48157c444eb2...|f8918752-b29b-494...|ce97395d57a7c88f4...|\n",
      "|      C0004|  746863388159|   920503|2025-08-03 18:56:...| 83f6c92c818b0e31b...|4b3d0cad1a0d41172...|d8a32798-83ef-469...|a2d643aa900ecb1d6...|\n",
      "|      C0005|  982130250187|   566788|2025-08-03 18:56:...| f44f4bd0d08c3e3d9...|73dd0096cb04759ff...|9c065e0d-dd3b-482...|fce545af1c500304d...|\n",
      "+-----------+--------------+---------+--------------------+---------------------+--------------------+--------------------+--------------------+\n",
      "only showing top 5 rows\n",
      "\n"
     ]
    }
   ],
   "source": [
    "df_silver.show(5)"
   ]
  },
  {
   "cell_type": "code",
   "execution_count": 15,
   "id": "4723bac2",
   "metadata": {},
   "outputs": [],
   "source": [
    "\n",
    "# Optional: Null checks (only keep valid records)\n",
    "df_clean = df_silver.filter(\n",
    "    col(\"Customer_ID\").isNotNull() &\n",
    "    col(\"Masked_Aadhaar_Number\").isNotNull() &\n",
    "    col(\"Masked_DL_Number\").isNotNull()\n",
    ")"
   ]
  },
  {
   "cell_type": "code",
   "execution_count": 16,
   "id": "1a36cd84",
   "metadata": {},
   "outputs": [],
   "source": [
    "df_clean.write \\\n",
    "    .format(\"jdbc\") \\\n",
    "    .option(\"url\", \"jdbc:postgresql://localhost:5432/silver_layer_db\") \\\n",
    "    .option(\"dbtable\", \"public.silver_customer_identity\") \\\n",
    "    .option(\"user\", \"postgres\") \\\n",
    "    .option(\"password\", \"rathi\") \\\n",
    "    .option(\"driver\", \"org.postgresql.Driver\") \\\n",
    "    .mode(\"overwrite\") \\\n",
    "    .save()\n"
   ]
  },
  {
   "cell_type": "code",
   "execution_count": 17,
   "id": "dd6504dc",
   "metadata": {},
   "outputs": [
    {
     "name": "stdout",
     "output_type": "stream",
     "text": [
      "+-----------+--------------+---------+--------------------+---------------------+--------------------+--------------------+--------------------+\n",
      "|Customer_ID|aadhaar_number|dl_number|         Received_At|Masked_Aadhaar_Number|    Masked_DL_Number|         Record_UUID|      Record_Hash_ID|\n",
      "+-----------+--------------+---------+--------------------+---------------------+--------------------+--------------------+--------------------+\n",
      "|      C0001|  662282154096|   227272|2025-08-03 18:56:...| 53db24e255e42f4fc...|4c3ad176dfac7b9db...|c39bee25-03f3-441...|919b2320e1a03f843...|\n",
      "|      C0002|  814740195173|   746082|2025-08-03 18:56:...| c4a479edab65f714a...|406df86a5296fc7ba...|84294531-23ba-4c6...|ae86a89cfa3812fe0...|\n",
      "|      C0003|  312860089533|   340792|2025-08-03 18:56:...| 3437c1ab81807789a...|bdb6f48157c444eb2...|f8918752-b29b-494...|ce97395d57a7c88f4...|\n",
      "|      C0004|  746863388159|   920503|2025-08-03 18:56:...| 83f6c92c818b0e31b...|4b3d0cad1a0d41172...|d8a32798-83ef-469...|a2d643aa900ecb1d6...|\n",
      "|      C0005|  982130250187|   566788|2025-08-03 18:56:...| f44f4bd0d08c3e3d9...|73dd0096cb04759ff...|9c065e0d-dd3b-482...|fce545af1c500304d...|\n",
      "+-----------+--------------+---------+--------------------+---------------------+--------------------+--------------------+--------------------+\n",
      "only showing top 5 rows\n",
      "\n"
     ]
    }
   ],
   "source": [
    "df_clean.show(5)"
   ]
  },
  {
   "cell_type": "code",
   "execution_count": null,
   "id": "1c63e22e",
   "metadata": {},
   "outputs": [],
   "source": []
  }
 ],
 "metadata": {
  "kernelspec": {
   "display_name": "Python 3",
   "language": "python",
   "name": "python3"
  },
  "language_info": {
   "codemirror_mode": {
    "name": "ipython",
    "version": 3
   },
   "file_extension": ".py",
   "mimetype": "text/x-python",
   "name": "python",
   "nbconvert_exporter": "python",
   "pygments_lexer": "ipython3",
   "version": "3.10.11"
  }
 },
 "nbformat": 4,
 "nbformat_minor": 5
}
