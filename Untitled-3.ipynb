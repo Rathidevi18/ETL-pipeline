{
 "cells": [
  {
   "cell_type": "code",
   "execution_count": 25,
   "id": "17f50a21",
   "metadata": {},
   "outputs": [],
   "source": [
    "from pyspark.sql import SparkSession\n",
    "from pyspark.sql.functions import col, sha2, concat_ws, current_timestamp, lit, expr, to_date\n",
    "from pyspark.sql.types import *\n",
    "import psycopg2"
   ]
  },
  {
   "cell_type": "code",
   "execution_count": 26,
   "id": "3b37dd30",
   "metadata": {},
   "outputs": [],
   "source": [
    "# 1. Start Spark session\n",
    "spark = SparkSession.builder \\\n",
    "    .appName(\"Gold Layer ETL with Auto-DDL\") \\\n",
    "    .config(\"spark.driver.extraClassPath\", r\"C:\\Users\\Mind-Graph\\Desktop\\etlproject\\jars\\postgresql-42.2.18.jar\") \\\n",
    "    .getOrCreate()"
   ]
  },
  {
   "cell_type": "code",
   "execution_count": 27,
   "id": "809c1d1e",
   "metadata": {},
   "outputs": [],
   "source": [
    "spark.conf.set(\"spark.sql.caseSensitive\", \"false\")\n"
   ]
  },
  {
   "cell_type": "code",
   "execution_count": 28,
   "id": "0e6d977d",
   "metadata": {},
   "outputs": [],
   "source": [
    "# 2. JDBC configs\n",
    "silver_url = \"jdbc:postgresql://localhost:5432/silver_layer_db\"\n",
    "gold_url = \"jdbc:postgresql://localhost:5432/gold_layer_db\"\n",
    "properties = {\"user\": \"postgres\", \"password\": \"rathi\", \"driver\": \"org.postgresql.Driver\"}\n"
   ]
  },
  {
   "cell_type": "code",
   "execution_count": 30,
   "id": "321b2516",
   "metadata": {},
   "outputs": [],
   "source": [
    "\n",
    "# 3. Read silver-layer tables\n",
    "def read_and_normalize(table):\n",
    "    df = spark.read.jdbc(silver_url, table, properties=properties)\n",
    "    return df.select([col(c).alias(c.lower()) for c in df.columns])\n",
    "\n",
    "silver_customer = read_and_normalize(\"silver_customer\")\n",
    "silver_identity = read_and_normalize(\"silver_customer_identity\")\n",
    "silver_relation = read_and_normalize(\"silver_customer_policy_relation\")\n",
    "silver_policies = read_and_normalize(\"silver_policies\")\n",
    "silver_claims = read_and_normalize(\"silver_claims\")\n",
    "silver_underwriting = read_and_normalize(\"silver_underwriting\")\n",
    "silver_insurance_ds = read_and_normalize(\"silver_insurance_dataset\")\n"
   ]
  },
  {
   "cell_type": "code",
   "execution_count": 77,
   "id": "a44a1323",
   "metadata": {},
   "outputs": [],
   "source": [
    "from pyspark.sql.functions import col, sha2, concat_ws, expr, current_timestamp\n",
    "\n",
    "# Step 4: Join with aliasing\n",
    "df = silver_customer.alias(\"c\") \\\n",
    "    .join(silver_identity.alias(\"i\"), on=\"customer_id\", how=\"left\") \\\n",
    "    .join(silver_relation.alias(\"r\"), on=\"customer_id\", how=\"left\") \\\n",
    "    .join(silver_policies.alias(\"p\"), on=\"policy_id\", how=\"left\") \\\n",
    "    .join(silver_claims.alias(\"cl\"), on=\"policy_id\", how=\"left\") \\\n",
    "    .join(silver_underwriting.alias(\"u\"), on=[\"policy_id\", \"customer_id\"], how=\"left\") \\\n",
    "    .join(silver_insurance_ds.alias(\"ds\"), on=\"customer_id\", how=\"left\") \\\n",
    "    .select(\n",
    "        col(\"c.customer_id\").alias(\"customer_id\"),\n",
    "        col(\"p.policy_id\").alias(\"policy_id\"),\n",
    "        col(\"cl.claim_id\").alias(\"claim_id\"),\n",
    "        # Add other necessary columns with unique aliases\n",
    "        col(\"c.name\").alias(\"name\"),\n",
    "        col(\"c.dob\").alias(\"dob\"),\n",
    "        col(\"i.Masked_DL_Number\").alias(\"Masked_DL_Number\"),\n",
    "        col(\"i.Masked_Aadhaar_Number\").alias(\"Masked_Aadhaar_Number\"),\n",
    "        col(\"p.Policy_Type\").alias(\"Policy_Type\"),\n",
    "        col(\"p.Premium\").alias(\"Premium\"),\n",
    "        col(\"p.Coverage_Amount\").alias(\"Coverage_Amount\"),\n",
    "        col(\"p.Status\").alias(\"Policy_Status\"),\n",
    "        col(\"c.age\").alias(\"age\"),\n",
    "        col(\"c.door_no\").alias(\"door_no\"),\n",
    "        col(\"c.street\").alias(\"street\"),\n",
    "        col(\"c.city\").alias(\"city\"),\n",
    "        col(\"c.state\").alias(\"state\"),\n",
    "        col(\"c.country\").alias(\"country\"),\n",
    "        col(\"ds.credit_score\").alias(\"credit_score\"),\n",
    "        col(\"r.Start_Date\").alias(\"Policy_Start_Date\"),\n",
    "        col(\"r.End_Date\").alias(\"Policy_End_Date\"),\n",
    "        col(\"r.Status\").alias(\"Relation_Status\"),\n",
    "        col(\"u.Risk_Score\").alias(\"Underwriting_Risk_Score\"),\n",
    "        col(\"u.Approval_Status\").alias(\"Approval_Status\"),\n",
    "        col(\"ds.risk_profile\").alias(\"risk_profile\"),\n",
    "        col(\"ds.claims_history\").alias(\"claims_history\"),\n",
    "        col(\"cl.Investigation_Required\").alias(\"Investigation_Required\"),\n",
    "        col(\"cl.Claim_Amount\").alias(\"Claim_Amount\"),\n",
    "        col(\"cl.Date\").alias(\"Claim_Date\"),\n",
    "        col(\"cl.Status\").alias(\"Claim_Status\"),\n",
    "        col(\"ds.src_transaction_date\").alias(\"src_transaction_date\"),\n",
    "        # Add more columns if \n",
    "    )\n",
    "\n"
   ]
  },
  {
   "cell_type": "code",
   "execution_count": 78,
   "id": "bcc80d1d",
   "metadata": {},
   "outputs": [],
   "source": [
    "# Step 5: Data cleansing and governance\n",
    "df = df.dropDuplicates([\"customer_id\", \"policy_id\", \"claim_id\"]) \\\n",
    "       .withColumn(\"record_uuid\", expr(\"uuid()\")) \\\n",
    "       .withColumn(\"record_hash_id\", sha2(concat_ws(\"||\", col(\"customer_id\"), col(\"policy_id\"), col(\"claim_id\")), 256)) \\\n",
    "       .withColumn(\"ingested_at\", current_timestamp())\n"
   ]
  },
  {
   "cell_type": "code",
   "execution_count": 79,
   "id": "6329873b",
   "metadata": {},
   "outputs": [
    {
     "name": "stdout",
     "output_type": "stream",
     "text": [
      "root\n",
      " |-- customer_id: string (nullable = true)\n",
      " |-- policy_id: string (nullable = true)\n",
      " |-- claim_id: string (nullable = true)\n",
      " |-- name: string (nullable = true)\n",
      " |-- dob: string (nullable = true)\n",
      " |-- Masked_DL_Number: string (nullable = true)\n",
      " |-- Masked_Aadhaar_Number: string (nullable = true)\n",
      " |-- Policy_Type: string (nullable = true)\n",
      " |-- Premium: double (nullable = true)\n",
      " |-- Coverage_Amount: double (nullable = true)\n",
      " |-- Policy_Status: string (nullable = true)\n",
      " |-- age: string (nullable = true)\n",
      " |-- door_no: string (nullable = true)\n",
      " |-- street: string (nullable = true)\n",
      " |-- city: string (nullable = true)\n",
      " |-- state: string (nullable = true)\n",
      " |-- country: string (nullable = true)\n",
      " |-- credit_score: integer (nullable = true)\n",
      " |-- Policy_Start_Date: date (nullable = true)\n",
      " |-- Policy_End_Date: date (nullable = true)\n",
      " |-- Relation_Status: string (nullable = true)\n",
      " |-- Underwriting_Risk_Score: double (nullable = true)\n",
      " |-- Approval_Status: string (nullable = true)\n",
      " |-- risk_profile: string (nullable = true)\n",
      " |-- claims_history: integer (nullable = true)\n",
      " |-- Investigation_Required: boolean (nullable = true)\n",
      " |-- Claim_Amount: double (nullable = true)\n",
      " |-- Claim_Date: date (nullable = true)\n",
      " |-- Claim_Status: string (nullable = true)\n",
      " |-- src_transaction_date: date (nullable = true)\n",
      " |-- record_uuid: string (nullable = false)\n",
      " |-- record_hash_id: string (nullable = true)\n",
      " |-- ingested_at: timestamp (nullable = false)\n",
      "\n"
     ]
    }
   ],
   "source": [
    "df.printSchema()"
   ]
  },
  {
   "cell_type": "code",
   "execution_count": 80,
   "id": "9f676e77",
   "metadata": {},
   "outputs": [
    {
     "name": "stdout",
     "output_type": "stream",
     "text": [
      "+-----------+---------+--------+----------------+----------+--------------------+---------------------+-----------+-------+---------------+-------------+---+-------+--------------------+------------+--------+-------+------------+-----------------+---------------+---------------+-----------------------+---------------+------------+--------------+----------------------+------------+----------+------------+--------------------+--------------------+--------------------+--------------------+\n",
      "|customer_id|policy_id|claim_id|            name|       dob|    Masked_DL_Number|Masked_Aadhaar_Number|Policy_Type|Premium|Coverage_Amount|Policy_Status|age|door_no|              street|        city|   state|country|credit_score|Policy_Start_Date|Policy_End_Date|Relation_Status|Underwriting_Risk_Score|Approval_Status|risk_profile|claims_history|Investigation_Required|Claim_Amount|Claim_Date|Claim_Status|src_transaction_date|         record_uuid|      record_hash_id|         ingested_at|\n",
      "+-----------+---------+--------+----------------+----------+--------------------+---------------------+-----------+-------+---------------+-------------+---+-------+--------------------+------------+--------+-------+------------+-----------------+---------------+---------------+-----------------------+---------------+------------+--------------+----------------------+------------+----------+------------+--------------------+--------------------+--------------------+--------------------+\n",
      "|      C0001|    P8544|    NULL|      Jamie Bell|25-01-1972|4c3ad176dfac7b9db...| 53db24e255e42f4fc...|     Travel|  189.0|       918472.0|       Active| 74|    779|267 Roy Landing S...|  Floresside|Ky 72134|    Usa|         803|       2023-07-05|           NULL|         ACTIVE|                   25.0|       Rejected|         Low|             2|                  NULL|        NULL|      NULL|        NULL|          2024-12-03|62498a2f-e460-411...|ed1be7edd32f9deeb...|2025-08-04 16:44:...|\n",
      "|      C0002|    P0830|    NULL|Carrie Nicholson|19-02-1990|406df86a5296fc7ba...| c4a479edab65f714a...|       Auto|  239.0|       716330.0|      Expired| 66|    809|754 Javier Creek ...|   East John|Vi 14302|    Usa|         602|       2021-04-10|     2024-06-27|        EXPIRED|                   94.0|   Under Review|        High|             0|                  NULL|        NULL|      NULL|        NULL|          2024-10-27|9ef9fb26-d1ab-46f...|f2acc34effa7d0cf4...|2025-08-04 16:44:...|\n",
      "|      C0003|    P8159|    NULL|  Michelle Davis|19-02-1949|bdb6f48157c444eb2...| 3437c1ab81807789a...|       Home|  298.0|       449728.0|       Active| 47|    335|    9524 Eric Shores|Dylanborough|Pr 92228|    Usa|         651|       2021-04-13|           NULL|         ACTIVE|                   85.0|   Under Review|      Medium|             5|                  NULL|        NULL|      NULL|        NULL|          2023-05-09|8b5eb7f3-ce3b-44d...|ba6ee6ef7850f1d73...|2025-08-04 16:44:...|\n",
      "|      C0004|    P0330|  CL0009|      Sarah Webb|20-05-1963|4b3d0cad1a0d41172...| 83f6c92c818b0e31b...|     Travel|  225.0|       226076.0|       Active| 58|    274|31593 Jasmine Und...|  Port Gavin|Ia 45590|    Usa|         765|       2021-10-13|           NULL|         ACTIVE|                   98.0|       Rejected|        High|             0|                  true|      7254.0|2025-01-07|     Pending|          2024-02-22|96cbfc92-347d-472...|5b5ee455c2e242f4a...|2025-08-04 16:44:...|\n",
      "|      C0004|    P0330|  CL0292|      Sarah Webb|20-05-1963|4b3d0cad1a0d41172...| 83f6c92c818b0e31b...|     Travel|  225.0|       226076.0|       Active| 58|    274|31593 Jasmine Und...|  Port Gavin|Ia 45590|    Usa|         765|       2021-10-13|           NULL|         ACTIVE|                   98.0|       Rejected|        High|             0|                  true|      3530.0|2025-04-23|    Approved|          2024-02-22|7336302c-a78f-4a3...|79c9d6b22127bac77...|2025-08-04 16:44:...|\n",
      "+-----------+---------+--------+----------------+----------+--------------------+---------------------+-----------+-------+---------------+-------------+---+-------+--------------------+------------+--------+-------+------------+-----------------+---------------+---------------+-----------------------+---------------+------------+--------------+----------------------+------------+----------+------------+--------------------+--------------------+--------------------+--------------------+\n",
      "only showing top 5 rows\n",
      "\n"
     ]
    }
   ],
   "source": [
    "df.show(5)"
   ]
  },
  {
   "cell_type": "code",
   "execution_count": 81,
   "id": "5c009c52",
   "metadata": {},
   "outputs": [],
   "source": [
    "\n",
    "df = df.withColumn(\"ingested_at\", current_timestamp())"
   ]
  },
  {
   "cell_type": "code",
   "execution_count": 82,
   "id": "49139244",
   "metadata": {},
   "outputs": [],
   "source": [
    "#Auto-DDL: PostgreSQL table creation\n",
    "def create_gold_table_ddl(df, table_name, jdbc_url, props):\n",
    "    schema_ddl = []\n",
    "    for field in df.schema.fields:\n",
    "        name = field.name\n",
    "        dtype = field.dataType\n",
    "        if isinstance(dtype, StringType):\n",
    "            dtype_str = \"TEXT\"\n",
    "        elif isinstance(dtype, IntegerType):\n",
    "            dtype_str = \"INTEGER\"\n",
    "        elif isinstance(dtype, DoubleType):\n",
    "            dtype_str = \"DOUBLE PRECISION\"\n",
    "        elif isinstance(dtype, TimestampType):\n",
    "            dtype_str = \"TIMESTAMP\"\n",
    "        elif isinstance(dtype, DateType):\n",
    "            dtype_str = \"DATE\"\n",
    "        else:\n",
    "            dtype_str = \"TEXT\"\n",
    "        schema_ddl.append(f'\"{name}\" {dtype_str}')\n",
    "\n",
    "    ddl = f'CREATE TABLE IF NOT EXISTS public.{table_name} (\\n  ' + \",\\n  \".join(schema_ddl) + \"\\n);\"\n",
    "\n",
    "    conn = psycopg2.connect(\n",
    "        database=\"gold_layer_db\",\n",
    "        user=props[\"user\"],\n",
    "        password=props[\"password\"],\n",
    "        host=\"localhost\",\n",
    "        port=\"5432\"\n",
    "    )\n",
    "    cur = conn.cursor()\n",
    "    cur.execute(ddl)\n",
    "    conn.commit()\n",
    "    cur.close()\n",
    "    conn.close()\n"
   ]
  },
  {
   "cell_type": "code",
   "execution_count": 83,
   "id": "c6c3cc60",
   "metadata": {},
   "outputs": [],
   "source": [
    "create_gold_table_ddl(\n",
    "    df=df,                                  # Your final DataFrame\n",
    "    table_name=\"gold_customer_policy_summary\",  # Desired PostgreSQL table name\n",
    "    jdbc_url=gold_url,                      # Your JDBC connection URL, e.g., \"jdbc:postgresql://localhost:5432/gold_layer_db\"\n",
    "    props=properties                        #Your connection properties, e.g., {\"user\": \"postgres\", \"password\": \"rathi\"}\n",
    ")\n"
   ]
  },
  {
   "cell_type": "code",
   "execution_count": 85,
   "id": "806030ed",
   "metadata": {},
   "outputs": [],
   "source": [
    "df.write.jdbc(\n",
    "    url=gold_url,\n",
    "    table=\"gold_customer_policy\",\n",
    "    mode=\"overwrite\",\n",
    "    properties=properties\n",
    ")\n"
   ]
  }
 ],
 "metadata": {
  "kernelspec": {
   "display_name": "Python 3",
   "language": "python",
   "name": "python3"
  },
  "language_info": {
   "codemirror_mode": {
    "name": "ipython",
    "version": 3
   },
   "file_extension": ".py",
   "mimetype": "text/x-python",
   "name": "python",
   "nbconvert_exporter": "python",
   "pygments_lexer": "ipython3",
   "version": "3.10.11"
  }
 },
 "nbformat": 4,
 "nbformat_minor": 5
}
